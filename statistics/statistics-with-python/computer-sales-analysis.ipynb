{
 "cells": [
  {
   "cell_type": "markdown",
   "metadata": {},
   "source": [
    "### Stage\n",
    "\n",
    "- [x] Implementation\n",
    "- [ ] Optimization\n",
    "- [ ] Cleaning"
   ]
  },
  {
   "cell_type": "markdown",
   "metadata": {},
   "source": [
    "### Imports"
   ]
  },
  {
   "cell_type": "code",
   "execution_count": 314,
   "metadata": {},
   "outputs": [],
   "source": [
    "from csv         import reader\n",
    "from math        import sqrt, floor\n",
    "from collections import Counter\n",
    "from statistics  import fmean, stdev, correlation"
   ]
  },
  {
   "cell_type": "markdown",
   "metadata": {},
   "source": [
    "### Data preparation"
   ]
  },
  {
   "cell_type": "code",
   "execution_count": 315,
   "metadata": {},
   "outputs": [
    {
     "name": "stdout",
     "output_type": "stream",
     "text": [
      "First 5 rows:\n",
      "['Sale ID', 'Company', 'Contact', 'Contact Sex', 'Contact Age', 'Contact City', 'Contact State', 'Product Company', 'Product ID', 'Product Type', 'Sale Price', 'Our Cost', 'Shipping Cost', 'Profit', 'Lead Source', 'Sale Month', 'Sale Year']\n",
      "['1', 'PNT Designs', 'Paul Thomas', 'M', '43', 'Carnegie', 'OH', 'HP', 'M01-F0024', 'Desktop', '479.99', '315.50', '21.10', '143.39', 'Website', 'January', '2018']\n",
      "['2', 'Ace Manufacturing', 'Margo Simms', 'F', '37', 'Larimer', 'WV', 'HP', 'GT13-0024', 'Desktop', '1249.99', '998.00', '21.10', '230.89', 'Flyer 4', 'January', '2018']\n",
      "['3', \"Sammie's\", 'Sam Stine', 'M', '26', 'Pittsburgh', 'PA', 'Dell', 'I3670', 'Desktop', '649.99', '510.25', '21.10', '118.64', 'Website', 'February', '2018']\n",
      "['4', 'One Moe Time', 'Moe Eggert', 'M', '35', 'St. Clair', 'PA', 'Dell', 'I3593', 'Laptop', '399.99', '310.50', '17.40', '72.09', 'Website', 'March', '2018']\n",
      "\n",
      "Rows: 40, Columns: 17\n"
     ]
    }
   ],
   "source": [
    "with open(\"./data/computer-sales.csv\", newline=\"\") as csvfile:\n",
    "    spamreader = reader(csvfile, delimiter=\",\", quotechar=\"|\")\n",
    "    \n",
    "    # Converting '_csv.reader' to 'list'\n",
    "    raw_sales_data = list(spamreader)\n",
    "\n",
    "    print(\"First 5 rows:\")\n",
    "    for row in raw_sales_data[:5]:\n",
    "        print(row)\n",
    "\n",
    "\n",
    "col_len = len(raw_sales_data[0])\n",
    "row_len = len(raw_sales_data)\n",
    "print(f\"\\nRows: {row_len}, Columns: {col_len}\")\n"
   ]
  },
  {
   "cell_type": "code",
   "execution_count": 316,
   "metadata": {},
   "outputs": [
    {
     "data": {
      "text/plain": [
       "{'Sale ID': [],\n",
       " 'Company': [],\n",
       " 'Contact': [],\n",
       " 'Contact Sex': [],\n",
       " 'Contact Age': [],\n",
       " 'Contact City': [],\n",
       " 'Contact State': [],\n",
       " 'Product Company': [],\n",
       " 'Product ID': [],\n",
       " 'Product Type': [],\n",
       " 'Sale Price': [],\n",
       " 'Our Cost': [],\n",
       " 'Shipping Cost': [],\n",
       " 'Profit': [],\n",
       " 'Lead Source': [],\n",
       " 'Sale Month': [],\n",
       " 'Sale Year': []}"
      ]
     },
     "execution_count": 316,
     "metadata": {},
     "output_type": "execute_result"
    }
   ],
   "source": [
    "# Getting the header\n",
    "sales_data = {i: [] for i in raw_sales_data[0]}\n",
    "sales_data"
   ]
  },
  {
   "cell_type": "code",
   "execution_count": 317,
   "metadata": {},
   "outputs": [
    {
     "name": "stdout",
     "output_type": "stream",
     "text": [
      "Getting index-1: Company\n"
     ]
    }
   ],
   "source": [
    "# Accessing nth key in the dictionary\n",
    "def get_nth_key(dictionary, n=0):\n",
    "    if n < 0: # negative indexing\n",
    "        n += len(dictionary)\n",
    "    for i, key in enumerate(dictionary):\n",
    "        if i == n:\n",
    "            return key\n",
    "    raise IndexError(\"Dictionary index out of range\")\n",
    "\n",
    "idx = 1\n",
    "print(f\"Getting index-{idx}: {get_nth_key(sales_data, idx)}\")"
   ]
  },
  {
   "cell_type": "code",
   "execution_count": 318,
   "metadata": {},
   "outputs": [
    {
     "data": {
      "text/plain": [
       "{'Sale ID': ['1',\n",
       "  '2',\n",
       "  '3',\n",
       "  '4',\n",
       "  '5',\n",
       "  '6',\n",
       "  '7',\n",
       "  '8',\n",
       "  '9',\n",
       "  '10',\n",
       "  '11',\n",
       "  '12',\n",
       "  '13',\n",
       "  '14',\n",
       "  '15',\n",
       "  '16',\n",
       "  '17',\n",
       "  '18',\n",
       "  '19',\n",
       "  '20',\n",
       "  '21',\n",
       "  '22',\n",
       "  '23',\n",
       "  '24',\n",
       "  '25',\n",
       "  '26',\n",
       "  '27',\n",
       "  '28',\n",
       "  '29',\n",
       "  '30',\n",
       "  '31',\n",
       "  '32',\n",
       "  '33',\n",
       "  '34',\n",
       "  '35',\n",
       "  '36',\n",
       "  '37',\n",
       "  '38',\n",
       "  '39'],\n",
       " 'Company': ['PNT Designs',\n",
       "  'Ace Manufacturing',\n",
       "  \"Sammie's\",\n",
       "  'One Moe Time',\n",
       "  'Get Going Gym',\n",
       "  'ANX Trucking',\n",
       "  'Samms Grooming',\n",
       "  'Roberts Produce',\n",
       "  'Klondike Dairy',\n",
       "  'Jones Manufacturing',\n",
       "  'James Cycles',\n",
       "  'Weight Stalkers',\n",
       "  'Case Solutions',\n",
       "  \"Doug's House\",\n",
       "  'Helms Manufacturing',\n",
       "  'Collins Advertising',\n",
       "  'Owens & Sons',\n",
       "  'Samms Grooming',\n",
       "  'Roberts Produce',\n",
       "  'ANX Trucking',\n",
       "  'Case Solutions',\n",
       "  \"Doug's House\",\n",
       "  'PNT Designs',\n",
       "  'Ace Manufacturing',\n",
       "  'Samms Grooming',\n",
       "  'Roberts Produce',\n",
       "  'Klondike Dairy',\n",
       "  'One Moe Time',\n",
       "  'Get Going Gym',\n",
       "  'Jones Manufacturing',\n",
       "  'James Cycles',\n",
       "  'Weight Stalkers',\n",
       "  'Collins Advertising',\n",
       "  'Owens & Sons',\n",
       "  'Samms Grooming',\n",
       "  'ANX Trucking',\n",
       "  'Case Solutions',\n",
       "  \"Doug's House\",\n",
       "  'One Moe Time'],\n",
       " 'Contact': ['Paul Thomas',\n",
       "  'Margo Simms',\n",
       "  'Sam Stine',\n",
       "  'Moe Eggert',\n",
       "  'Jessica Elk',\n",
       "  'Sally Struthers',\n",
       "  'Michelle Samms',\n",
       "  'Mick Roberts',\n",
       "  'Ed Klondike',\n",
       "  'Phil Jones',\n",
       "  'Rick James',\n",
       "  'Sue Etna',\n",
       "  'Jason Case',\n",
       "  'Doug Johnson',\n",
       "  'Andy Sands',\n",
       "  'Kim Collins',\n",
       "  'Edna Sanders',\n",
       "  'Michelle Samms',\n",
       "  'Mick Roberts',\n",
       "  'Sally Struthers',\n",
       "  'Jason Case',\n",
       "  'Doug Johnson',\n",
       "  'Paul Thomas',\n",
       "  'Margo Simms',\n",
       "  'Michelle Samms',\n",
       "  'Mick Roberts',\n",
       "  'Ed Klondike',\n",
       "  'Moe Eggert',\n",
       "  'Jessica Elk',\n",
       "  'Phil Jones',\n",
       "  'Rick James',\n",
       "  'Sue Etna',\n",
       "  'Kim Collins',\n",
       "  'Edna Sanders',\n",
       "  'Michelle Samms',\n",
       "  'Sally Struthers',\n",
       "  'Jason Case',\n",
       "  'Doug Johnson',\n",
       "  'Moe Eggert'],\n",
       " 'Contact Sex': ['M',\n",
       "  'F',\n",
       "  'M',\n",
       "  'M',\n",
       "  'F',\n",
       "  'F',\n",
       "  'F',\n",
       "  'M',\n",
       "  'M',\n",
       "  'M',\n",
       "  'M',\n",
       "  'F',\n",
       "  'M',\n",
       "  'M',\n",
       "  'M',\n",
       "  'F',\n",
       "  'F',\n",
       "  'F',\n",
       "  'M',\n",
       "  'F',\n",
       "  'M',\n",
       "  'M',\n",
       "  'M',\n",
       "  'F',\n",
       "  'F',\n",
       "  'M',\n",
       "  'M',\n",
       "  'M',\n",
       "  'F',\n",
       "  'M',\n",
       "  'M',\n",
       "  'F',\n",
       "  'F',\n",
       "  'F',\n",
       "  'F',\n",
       "  'F',\n",
       "  'M',\n",
       "  'M',\n",
       "  'M'],\n",
       " 'Contact Age': ['43',\n",
       "  '37',\n",
       "  '26',\n",
       "  '35',\n",
       "  '55',\n",
       "  '45',\n",
       "  '46',\n",
       "  '23',\n",
       "  '52',\n",
       "  '56',\n",
       "  '49',\n",
       "  '54',\n",
       "  '57',\n",
       "  '51',\n",
       "  '56',\n",
       "  '49',\n",
       "  '46',\n",
       "  '46',\n",
       "  '23',\n",
       "  '45',\n",
       "  '57',\n",
       "  '51',\n",
       "  '43',\n",
       "  '37',\n",
       "  '46',\n",
       "  '23',\n",
       "  '52',\n",
       "  '35',\n",
       "  '55',\n",
       "  '56',\n",
       "  '49',\n",
       "  '54',\n",
       "  '49',\n",
       "  '46',\n",
       "  '46',\n",
       "  '45',\n",
       "  '57',\n",
       "  '51',\n",
       "  '35'],\n",
       " 'Contact City': ['Carnegie',\n",
       "  'Larimer',\n",
       "  'Pittsburgh',\n",
       "  'St. Clair',\n",
       "  'Pittsburgh',\n",
       "  'St. Clair',\n",
       "  'Carnegie',\n",
       "  'Lawrenceville',\n",
       "  'Carnegie',\n",
       "  'Larimer',\n",
       "  'Pittsburgh',\n",
       "  'Banksville',\n",
       "  'Pittsburgh',\n",
       "  'Pittsburgh',\n",
       "  'Lawrenceville',\n",
       "  'Pittsburgh',\n",
       "  'Lawrenceville',\n",
       "  'Banksville',\n",
       "  'Pittsburgh',\n",
       "  'Banksville',\n",
       "  'Pittsburgh',\n",
       "  'Pittsburgh',\n",
       "  'Carnegie',\n",
       "  'Larimer',\n",
       "  'Banksville',\n",
       "  'Pittsburgh',\n",
       "  'Carnegie',\n",
       "  'St. Clair',\n",
       "  'Pittsburgh',\n",
       "  'Larimer',\n",
       "  'Pittsburgh',\n",
       "  'Banksville',\n",
       "  'Pittsburgh',\n",
       "  'Lawrenceville',\n",
       "  'Banksville',\n",
       "  'Banksville',\n",
       "  'Pittsburgh',\n",
       "  'Pittsburgh',\n",
       "  'St. Clair'],\n",
       " 'Contact State': ['OH',\n",
       "  'WV',\n",
       "  'PA',\n",
       "  'PA',\n",
       "  'PA',\n",
       "  'PA',\n",
       "  'OH',\n",
       "  'OH',\n",
       "  'OH',\n",
       "  'WV',\n",
       "  'PA',\n",
       "  'OH',\n",
       "  'PA',\n",
       "  'PA',\n",
       "  'OH',\n",
       "  'PA',\n",
       "  'OH',\n",
       "  'NY',\n",
       "  'PA',\n",
       "  'NY',\n",
       "  'PA',\n",
       "  'PA',\n",
       "  'OH',\n",
       "  'WV',\n",
       "  'NY',\n",
       "  'PA',\n",
       "  'OH',\n",
       "  'PA',\n",
       "  'PA',\n",
       "  'WV',\n",
       "  'PA',\n",
       "  'OH',\n",
       "  'PA',\n",
       "  'OH',\n",
       "  'NY',\n",
       "  'NY',\n",
       "  'PA',\n",
       "  'PA',\n",
       "  'PA'],\n",
       " 'Product Company': ['HP',\n",
       "  'HP',\n",
       "  'Dell',\n",
       "  'Dell',\n",
       "  'HP',\n",
       "  'HP',\n",
       "  'ASUS',\n",
       "  'Apple',\n",
       "  'Lenovo',\n",
       "  'HP',\n",
       "  'ASUS',\n",
       "  'HP',\n",
       "  'Lenovo',\n",
       "  'Dell',\n",
       "  'Apple',\n",
       "  'Dell',\n",
       "  'HP',\n",
       "  'Apple',\n",
       "  'Dell',\n",
       "  'Lenovo',\n",
       "  'HP',\n",
       "  'ASUS',\n",
       "  'Lenovo',\n",
       "  'ASUS',\n",
       "  'Dell',\n",
       "  'ASUS',\n",
       "  'ASUS',\n",
       "  'HP',\n",
       "  'ASUS',\n",
       "  'HP',\n",
       "  'ASUS',\n",
       "  'HP',\n",
       "  'Dell',\n",
       "  'HP',\n",
       "  'Apple',\n",
       "  'Lenovo',\n",
       "  'HP',\n",
       "  'ASUS',\n",
       "  'Dell'],\n",
       " 'Product ID': ['M01-F0024',\n",
       "  'GT13-0024',\n",
       "  'I3670',\n",
       "  'I3593',\n",
       "  '15M-ED',\n",
       "  'GT13-0024',\n",
       "  'GA401IV',\n",
       "  'MY2J2LL',\n",
       "  '81TC00',\n",
       "  'M01-F0024',\n",
       "  'GA401IV',\n",
       "  'GT13-0024',\n",
       "  '81TC00',\n",
       "  'I3670',\n",
       "  'MY2J2LL',\n",
       "  'I3593',\n",
       "  '15M-ED',\n",
       "  'MY2J2LL',\n",
       "  'I3593',\n",
       "  '81TC00',\n",
       "  'M01-F0024',\n",
       "  'GA401IV',\n",
       "  '81TC00',\n",
       "  'Q526FA',\n",
       "  'I3670',\n",
       "  'Q526FA',\n",
       "  'Q526FA',\n",
       "  '15M-ED',\n",
       "  'GA401IV',\n",
       "  'M01-F0024',\n",
       "  'GA401IV',\n",
       "  'GT13-0024',\n",
       "  'I3593',\n",
       "  '15M-ED',\n",
       "  'MY2J2LL',\n",
       "  '81TC00',\n",
       "  'M01-F0024',\n",
       "  'GA401IV',\n",
       "  'I3593'],\n",
       " 'Product Type': ['Desktop',\n",
       "  'Desktop',\n",
       "  'Desktop',\n",
       "  'Laptop',\n",
       "  'Laptop',\n",
       "  'Desktop',\n",
       "  'Laptop',\n",
       "  'Tablet',\n",
       "  'Laptop',\n",
       "  'Desktop',\n",
       "  'Laptop',\n",
       "  'Desktop',\n",
       "  'Laptop',\n",
       "  'Desktop',\n",
       "  'Tablet',\n",
       "  'Laptop',\n",
       "  'Laptop',\n",
       "  'Tablet',\n",
       "  'Laptop',\n",
       "  'Laptop',\n",
       "  'Desktop',\n",
       "  'Laptop',\n",
       "  'Laptop',\n",
       "  'Laptop',\n",
       "  'Desktop',\n",
       "  'Laptop',\n",
       "  'Laptop',\n",
       "  'Laptop',\n",
       "  'Laptop',\n",
       "  'Desktop',\n",
       "  'Laptop',\n",
       "  'Desktop',\n",
       "  'Laptop',\n",
       "  'Laptop',\n",
       "  'Tablet',\n",
       "  'Laptop',\n",
       "  'Desktop',\n",
       "  'Laptop',\n",
       "  'Laptop'],\n",
       " 'Sale Price': ['479.99',\n",
       "  '1249.99',\n",
       "  '649.99',\n",
       "  '399.99',\n",
       "  '699.99',\n",
       "  '1249.99',\n",
       "  '1349.99',\n",
       "  '999.99',\n",
       "  '649.99',\n",
       "  '479.99',\n",
       "  '1349.99',\n",
       "  '1249.99',\n",
       "  '649.99',\n",
       "  '649.99',\n",
       "  '999.99',\n",
       "  '399.99',\n",
       "  '699.99',\n",
       "  '999.99',\n",
       "  '399.99',\n",
       "  '649.99',\n",
       "  '479.99',\n",
       "  '1349.99',\n",
       "  '649.99',\n",
       "  '1049.99',\n",
       "  '649.99',\n",
       "  '1049.99',\n",
       "  '1049.99',\n",
       "  '699.99',\n",
       "  '1349.99',\n",
       "  '479.99',\n",
       "  '1349.99',\n",
       "  '1249.99',\n",
       "  '399.99',\n",
       "  '699.99',\n",
       "  '999.99',\n",
       "  '649.99',\n",
       "  '479.99',\n",
       "  '1349.99',\n",
       "  '399.99'],\n",
       " 'Our Cost': ['315.50',\n",
       "  '998.00',\n",
       "  '510.25',\n",
       "  '310.50',\n",
       "  '584.50',\n",
       "  '998.00',\n",
       "  '1152.25',\n",
       "  '845.00',\n",
       "  '510.25',\n",
       "  '315.50',\n",
       "  '1152.25',\n",
       "  '998.00',\n",
       "  '510.25',\n",
       "  '510.25',\n",
       "  '845.00',\n",
       "  '310.50',\n",
       "  '584.50',\n",
       "  '845.00',\n",
       "  '310.50',\n",
       "  '510.25',\n",
       "  '315.50',\n",
       "  '1152.25',\n",
       "  '510.25',\n",
       "  '889.50',\n",
       "  '510.25',\n",
       "  '889.50',\n",
       "  '889.50',\n",
       "  '584.50',\n",
       "  '1152.25',\n",
       "  '315.50',\n",
       "  '1152.25',\n",
       "  '998.00',\n",
       "  '310.50',\n",
       "  '584.50',\n",
       "  '845.00',\n",
       "  '510.25',\n",
       "  '315.50',\n",
       "  '1152.25',\n",
       "  '310.50'],\n",
       " 'Shipping Cost': ['21.10',\n",
       "  '21.10',\n",
       "  '21.10',\n",
       "  '17.40',\n",
       "  '17.40',\n",
       "  '21.10',\n",
       "  '17.40',\n",
       "  '8.30',\n",
       "  '17.40',\n",
       "  '21.10',\n",
       "  '17.40',\n",
       "  '21.10',\n",
       "  '17.40',\n",
       "  '21.10',\n",
       "  '8.30',\n",
       "  '17.40',\n",
       "  '17.40',\n",
       "  '8.30',\n",
       "  '17.40',\n",
       "  '17.40',\n",
       "  '21.10',\n",
       "  '17.40',\n",
       "  '17.40',\n",
       "  '17.40',\n",
       "  '21.10',\n",
       "  '17.40',\n",
       "  '17.40',\n",
       "  '17.40',\n",
       "  '17.40',\n",
       "  '21.10',\n",
       "  '17.40',\n",
       "  '21.10',\n",
       "  '17.40',\n",
       "  '17.40',\n",
       "  '8.30',\n",
       "  '17.40',\n",
       "  '21.10',\n",
       "  '17.40',\n",
       "  '17.40'],\n",
       " 'Profit': ['143.39',\n",
       "  '230.89',\n",
       "  '118.64',\n",
       "  '72.09',\n",
       "  '98.09',\n",
       "  '230.89',\n",
       "  '180.34',\n",
       "  '146.69',\n",
       "  '122.34',\n",
       "  '143.39',\n",
       "  '180.34',\n",
       "  '230.89',\n",
       "  '122.34',\n",
       "  '118.64',\n",
       "  '146.69',\n",
       "  '72.09',\n",
       "  '98.09',\n",
       "  '146.69',\n",
       "  '72.09',\n",
       "  '122.34',\n",
       "  '143.39',\n",
       "  '180.34',\n",
       "  '122.34',\n",
       "  '143.09',\n",
       "  '118.64',\n",
       "  '143.09',\n",
       "  '143.09',\n",
       "  '98.09',\n",
       "  '180.34',\n",
       "  '143.39',\n",
       "  '180.34',\n",
       "  '230.89',\n",
       "  '72.09',\n",
       "  '98.09',\n",
       "  '146.69',\n",
       "  '122.34',\n",
       "  '143.39',\n",
       "  '180.34',\n",
       "  '72.09'],\n",
       " 'Lead Source': ['Website',\n",
       "  'Flyer 4',\n",
       "  'Website',\n",
       "  'Website',\n",
       "  'Flyer 4',\n",
       "  'Flyer 2',\n",
       "  'Email',\n",
       "  'Website',\n",
       "  'Email',\n",
       "  'Flyer 2',\n",
       "  'Flyer 3',\n",
       "  'Flyer 2',\n",
       "  'Email',\n",
       "  'Website',\n",
       "  'Flyer 1',\n",
       "  'Flyer 2',\n",
       "  'Email',\n",
       "  'Website',\n",
       "  'Flyer 4',\n",
       "  'Website',\n",
       "  'Flyer 4',\n",
       "  'Website',\n",
       "  'Website',\n",
       "  'Flyer 4',\n",
       "  'Flyer 2',\n",
       "  'Email',\n",
       "  'Website',\n",
       "  'Email',\n",
       "  'Flyer 2',\n",
       "  'Flyer 2',\n",
       "  'Flyer 1',\n",
       "  'Flyer 2',\n",
       "  'Flyer 2',\n",
       "  'Email',\n",
       "  'Website',\n",
       "  'Website',\n",
       "  'Flyer 4',\n",
       "  'Website',\n",
       "  'Website'],\n",
       " 'Sale Month': ['January',\n",
       "  'January',\n",
       "  'February',\n",
       "  'March',\n",
       "  'March',\n",
       "  'April',\n",
       "  'May',\n",
       "  'July',\n",
       "  'July',\n",
       "  'August',\n",
       "  'November',\n",
       "  'November',\n",
       "  'November',\n",
       "  'December',\n",
       "  'December',\n",
       "  'January',\n",
       "  'February',\n",
       "  'March',\n",
       "  'March',\n",
       "  'April',\n",
       "  'May',\n",
       "  'August',\n",
       "  'August',\n",
       "  'November',\n",
       "  'November',\n",
       "  'November',\n",
       "  'December',\n",
       "  'December',\n",
       "  'December',\n",
       "  'January',\n",
       "  'January',\n",
       "  'February',\n",
       "  'March',\n",
       "  'March',\n",
       "  'April',\n",
       "  'April',\n",
       "  'April',\n",
       "  'May',\n",
       "  'May'],\n",
       " 'Sale Year': ['2018',\n",
       "  '2018',\n",
       "  '2018',\n",
       "  '2018',\n",
       "  '2018',\n",
       "  '2018',\n",
       "  '2018',\n",
       "  '2018',\n",
       "  '2018',\n",
       "  '2018',\n",
       "  '2018',\n",
       "  '2018',\n",
       "  '2018',\n",
       "  '2018',\n",
       "  '2018',\n",
       "  '2019',\n",
       "  '2019',\n",
       "  '2019',\n",
       "  '2019',\n",
       "  '2019',\n",
       "  '2019',\n",
       "  '2019',\n",
       "  '2019',\n",
       "  '2019',\n",
       "  '2019',\n",
       "  '2019',\n",
       "  '2019',\n",
       "  '2019',\n",
       "  '2019',\n",
       "  '2020',\n",
       "  '2020',\n",
       "  '2020',\n",
       "  '2020',\n",
       "  '2020',\n",
       "  '2020',\n",
       "  '2020',\n",
       "  '2020',\n",
       "  '2020',\n",
       "  '2020']}"
      ]
     },
     "execution_count": 318,
     "metadata": {},
     "output_type": "execute_result"
    }
   ],
   "source": [
    "# Making sales_data_list to a dictionary\n",
    "for col in range(col_len):\n",
    "    for row in range(1, row_len):\n",
    "        val = raw_sales_data[row][col]\n",
    "        sales_data[get_nth_key(sales_data, col)].append(val)\n",
    "\n",
    "sales_data"
   ]
  },
  {
   "cell_type": "code",
   "execution_count": 319,
   "metadata": {},
   "outputs": [
    {
     "name": "stdout",
     "output_type": "stream",
     "text": [
      "['PNT Designs', 'Ace Manufacturing', \"Sammie's\", 'One Moe Time', 'Get Going Gym', 'ANX Trucking', 'Samms Grooming', 'Roberts Produce', 'Klondike Dairy', 'Jones Manufacturing', 'James Cycles', 'Weight Stalkers', 'Case Solutions', \"Doug's House\", 'Helms Manufacturing', 'Collins Advertising', 'Owens & Sons', 'Samms Grooming', 'Roberts Produce', 'ANX Trucking', 'Case Solutions', \"Doug's House\", 'PNT Designs', 'Ace Manufacturing', 'Samms Grooming', 'Roberts Produce', 'Klondike Dairy', 'One Moe Time', 'Get Going Gym', 'Jones Manufacturing', 'James Cycles', 'Weight Stalkers', 'Collins Advertising', 'Owens & Sons', 'Samms Grooming', 'ANX Trucking', 'Case Solutions', \"Doug's House\", 'One Moe Time']\n"
     ]
    }
   ],
   "source": [
    "# Accessing nth key's value in the dictionary\n",
    "def get_nth_value(dictionary, idx):\n",
    "    return dictionary[get_nth_key(dictionary, idx)]\n",
    "\n",
    "idx = 1\n",
    "print(get_nth_value(sales_data, idx))\n",
    "\n",
    "# NOTE: Alternative\n",
    "# sales_data[\"Company\"]"
   ]
  },
  {
   "cell_type": "code",
   "execution_count": 320,
   "metadata": {},
   "outputs": [
    {
     "name": "stdout",
     "output_type": "stream",
     "text": [
      "Before:\n",
      "Sale ID: <class 'str'>\n",
      "Contact Age: <class 'str'>\n",
      "Sale Year: <class 'str'>\n",
      "Sale Price: <class 'str'>\n",
      "Our Cost: <class 'str'>\n",
      "Shipping Cost: <class 'str'>\n",
      "Profit: <class 'str'>\n",
      "\n",
      "After:\n",
      "Sale ID: <class 'int'>\n",
      "Contact Age: <class 'int'>\n",
      "Sale Year: <class 'int'>\n",
      "Sale Price: <class 'float'>\n",
      "Our Cost: <class 'float'>\n",
      "Shipping Cost: <class 'float'>\n",
      "Profit: <class 'float'>\n"
     ]
    }
   ],
   "source": [
    "# Converting columns to appropriate datatypes\n",
    "print(\"Before:\")\n",
    "## -> int\n",
    "print(f\"Sale ID:\", type(sales_data[\"Sale ID\"][0])) \n",
    "print(f\"Contact Age:\", type(sales_data[\"Contact Age\"][0])) \n",
    "print(f\"Sale Year:\", type(sales_data[\"Sale Year\"][0])) \n",
    "## -> float\n",
    "print(f\"Sale Price:\", type(sales_data[\"Sale Price\"][0])) \n",
    "print(f\"Our Cost:\", type(sales_data[\"Our Cost\"][0]))\n",
    "print(f\"Shipping Cost:\", type(sales_data[\"Shipping Cost\"][0])) \n",
    "print(f\"Profit:\", type(sales_data[\"Profit\"][0])) \n",
    "\n",
    "dtype_columns = {\n",
    "    \"int\": [\"Sale ID\", \"Contact Age\", \"Sale Year\"],\n",
    "    \"float\": [\"Sale Price\", \"Our Cost\", \"Shipping Cost\", \"Profit\"]\n",
    "}\n",
    "\n",
    "for dtype in dtype_columns:\n",
    "    for col in dtype_columns[dtype]:\n",
    "        if dtype == \"int\":\n",
    "            sales_data[col] = [int(i) for i in sales_data[col]]\n",
    "        elif dtype == \"float\":\n",
    "            sales_data[col] = [float(i) for i in sales_data[col]]\n",
    "\n",
    "print(\"\\nAfter:\")\n",
    "## -> int\n",
    "print(f\"Sale ID:\", type(sales_data[\"Sale ID\"][0])) \n",
    "print(f\"Contact Age:\", type(sales_data[\"Contact Age\"][0])) \n",
    "print(f\"Sale Year:\", type(sales_data[\"Sale Year\"][0])) \n",
    "## -> float\n",
    "print(f\"Sale Price:\", type(sales_data[\"Sale Price\"][0])) \n",
    "print(f\"Our Cost:\", type(sales_data[\"Our Cost\"][0]))\n",
    "print(f\"Shipping Cost:\", type(sales_data[\"Shipping Cost\"][0])) \n",
    "print(f\"Profit:\", type(sales_data[\"Profit\"][0]))      "
   ]
  },
  {
   "cell_type": "markdown",
   "metadata": {},
   "source": [
    "### Accessing the data"
   ]
  },
  {
   "cell_type": "markdown",
   "metadata": {},
   "source": [
    "#### To acess the rows and columns"
   ]
  },
  {
   "cell_type": "code",
   "execution_count": 321,
   "metadata": {},
   "outputs": [
    {
     "name": "stdout",
     "output_type": "stream",
     "text": [
      "Sale ID: [1, 2, 3, 4, 5, 6, 7, 8, 9, 10, 11, 12, 13, 14, 15, 16, 17, 18, 19, 20, 21, 22, 23, 24, 25, 26, 27, 28, 29, 30, 31, 32, 33, 34, 35, 36, 37, 38, 39]\n",
      "Company: ['PNT Designs', 'Ace Manufacturing', \"Sammie's\", 'One Moe Time', 'Get Going Gym', 'ANX Trucking', 'Samms Grooming', 'Roberts Produce', 'Klondike Dairy', 'Jones Manufacturing', 'James Cycles', 'Weight Stalkers', 'Case Solutions', \"Doug's House\", 'Helms Manufacturing', 'Collins Advertising', 'Owens & Sons', 'Samms Grooming', 'Roberts Produce', 'ANX Trucking', 'Case Solutions', \"Doug's House\", 'PNT Designs', 'Ace Manufacturing', 'Samms Grooming', 'Roberts Produce', 'Klondike Dairy', 'One Moe Time', 'Get Going Gym', 'Jones Manufacturing', 'James Cycles', 'Weight Stalkers', 'Collins Advertising', 'Owens & Sons', 'Samms Grooming', 'ANX Trucking', 'Case Solutions', \"Doug's House\", 'One Moe Time']\n",
      "Contact: ['Paul Thomas', 'Margo Simms', 'Sam Stine', 'Moe Eggert', 'Jessica Elk', 'Sally Struthers', 'Michelle Samms', 'Mick Roberts', 'Ed Klondike', 'Phil Jones', 'Rick James', 'Sue Etna', 'Jason Case', 'Doug Johnson', 'Andy Sands', 'Kim Collins', 'Edna Sanders', 'Michelle Samms', 'Mick Roberts', 'Sally Struthers', 'Jason Case', 'Doug Johnson', 'Paul Thomas', 'Margo Simms', 'Michelle Samms', 'Mick Roberts', 'Ed Klondike', 'Moe Eggert', 'Jessica Elk', 'Phil Jones', 'Rick James', 'Sue Etna', 'Kim Collins', 'Edna Sanders', 'Michelle Samms', 'Sally Struthers', 'Jason Case', 'Doug Johnson', 'Moe Eggert']\n",
      "Contact Sex: ['M', 'F', 'M', 'M', 'F', 'F', 'F', 'M', 'M', 'M', 'M', 'F', 'M', 'M', 'M', 'F', 'F', 'F', 'M', 'F', 'M', 'M', 'M', 'F', 'F', 'M', 'M', 'M', 'F', 'M', 'M', 'F', 'F', 'F', 'F', 'F', 'M', 'M', 'M']\n",
      "Contact Age: [43, 37, 26, 35, 55, 45, 46, 23, 52, 56, 49, 54, 57, 51, 56, 49, 46, 46, 23, 45, 57, 51, 43, 37, 46, 23, 52, 35, 55, 56, 49, 54, 49, 46, 46, 45, 57, 51, 35]\n",
      "Contact City: ['Carnegie', 'Larimer', 'Pittsburgh', 'St. Clair', 'Pittsburgh', 'St. Clair', 'Carnegie', 'Lawrenceville', 'Carnegie', 'Larimer', 'Pittsburgh', 'Banksville', 'Pittsburgh', 'Pittsburgh', 'Lawrenceville', 'Pittsburgh', 'Lawrenceville', 'Banksville', 'Pittsburgh', 'Banksville', 'Pittsburgh', 'Pittsburgh', 'Carnegie', 'Larimer', 'Banksville', 'Pittsburgh', 'Carnegie', 'St. Clair', 'Pittsburgh', 'Larimer', 'Pittsburgh', 'Banksville', 'Pittsburgh', 'Lawrenceville', 'Banksville', 'Banksville', 'Pittsburgh', 'Pittsburgh', 'St. Clair']\n",
      "Contact State: ['OH', 'WV', 'PA', 'PA', 'PA', 'PA', 'OH', 'OH', 'OH', 'WV', 'PA', 'OH', 'PA', 'PA', 'OH', 'PA', 'OH', 'NY', 'PA', 'NY', 'PA', 'PA', 'OH', 'WV', 'NY', 'PA', 'OH', 'PA', 'PA', 'WV', 'PA', 'OH', 'PA', 'OH', 'NY', 'NY', 'PA', 'PA', 'PA']\n",
      "Product Company: ['HP', 'HP', 'Dell', 'Dell', 'HP', 'HP', 'ASUS', 'Apple', 'Lenovo', 'HP', 'ASUS', 'HP', 'Lenovo', 'Dell', 'Apple', 'Dell', 'HP', 'Apple', 'Dell', 'Lenovo', 'HP', 'ASUS', 'Lenovo', 'ASUS', 'Dell', 'ASUS', 'ASUS', 'HP', 'ASUS', 'HP', 'ASUS', 'HP', 'Dell', 'HP', 'Apple', 'Lenovo', 'HP', 'ASUS', 'Dell']\n",
      "Product ID: ['M01-F0024', 'GT13-0024', 'I3670', 'I3593', '15M-ED', 'GT13-0024', 'GA401IV', 'MY2J2LL', '81TC00', 'M01-F0024', 'GA401IV', 'GT13-0024', '81TC00', 'I3670', 'MY2J2LL', 'I3593', '15M-ED', 'MY2J2LL', 'I3593', '81TC00', 'M01-F0024', 'GA401IV', '81TC00', 'Q526FA', 'I3670', 'Q526FA', 'Q526FA', '15M-ED', 'GA401IV', 'M01-F0024', 'GA401IV', 'GT13-0024', 'I3593', '15M-ED', 'MY2J2LL', '81TC00', 'M01-F0024', 'GA401IV', 'I3593']\n",
      "Product Type: ['Desktop', 'Desktop', 'Desktop', 'Laptop', 'Laptop', 'Desktop', 'Laptop', 'Tablet', 'Laptop', 'Desktop', 'Laptop', 'Desktop', 'Laptop', 'Desktop', 'Tablet', 'Laptop', 'Laptop', 'Tablet', 'Laptop', 'Laptop', 'Desktop', 'Laptop', 'Laptop', 'Laptop', 'Desktop', 'Laptop', 'Laptop', 'Laptop', 'Laptop', 'Desktop', 'Laptop', 'Desktop', 'Laptop', 'Laptop', 'Tablet', 'Laptop', 'Desktop', 'Laptop', 'Laptop']\n",
      "Sale Price: [479.99, 1249.99, 649.99, 399.99, 699.99, 1249.99, 1349.99, 999.99, 649.99, 479.99, 1349.99, 1249.99, 649.99, 649.99, 999.99, 399.99, 699.99, 999.99, 399.99, 649.99, 479.99, 1349.99, 649.99, 1049.99, 649.99, 1049.99, 1049.99, 699.99, 1349.99, 479.99, 1349.99, 1249.99, 399.99, 699.99, 999.99, 649.99, 479.99, 1349.99, 399.99]\n",
      "Our Cost: [315.5, 998.0, 510.25, 310.5, 584.5, 998.0, 1152.25, 845.0, 510.25, 315.5, 1152.25, 998.0, 510.25, 510.25, 845.0, 310.5, 584.5, 845.0, 310.5, 510.25, 315.5, 1152.25, 510.25, 889.5, 510.25, 889.5, 889.5, 584.5, 1152.25, 315.5, 1152.25, 998.0, 310.5, 584.5, 845.0, 510.25, 315.5, 1152.25, 310.5]\n",
      "Shipping Cost: [21.1, 21.1, 21.1, 17.4, 17.4, 21.1, 17.4, 8.3, 17.4, 21.1, 17.4, 21.1, 17.4, 21.1, 8.3, 17.4, 17.4, 8.3, 17.4, 17.4, 21.1, 17.4, 17.4, 17.4, 21.1, 17.4, 17.4, 17.4, 17.4, 21.1, 17.4, 21.1, 17.4, 17.4, 8.3, 17.4, 21.1, 17.4, 17.4]\n",
      "Profit: [143.39, 230.89, 118.64, 72.09, 98.09, 230.89, 180.34, 146.69, 122.34, 143.39, 180.34, 230.89, 122.34, 118.64, 146.69, 72.09, 98.09, 146.69, 72.09, 122.34, 143.39, 180.34, 122.34, 143.09, 118.64, 143.09, 143.09, 98.09, 180.34, 143.39, 180.34, 230.89, 72.09, 98.09, 146.69, 122.34, 143.39, 180.34, 72.09]\n",
      "Lead Source: ['Website', 'Flyer 4', 'Website', 'Website', 'Flyer 4', 'Flyer 2', 'Email', 'Website', 'Email', 'Flyer 2', 'Flyer 3', 'Flyer 2', 'Email', 'Website', 'Flyer 1', 'Flyer 2', 'Email', 'Website', 'Flyer 4', 'Website', 'Flyer 4', 'Website', 'Website', 'Flyer 4', 'Flyer 2', 'Email', 'Website', 'Email', 'Flyer 2', 'Flyer 2', 'Flyer 1', 'Flyer 2', 'Flyer 2', 'Email', 'Website', 'Website', 'Flyer 4', 'Website', 'Website']\n",
      "Sale Month: ['January', 'January', 'February', 'March', 'March', 'April', 'May', 'July', 'July', 'August', 'November', 'November', 'November', 'December', 'December', 'January', 'February', 'March', 'March', 'April', 'May', 'August', 'August', 'November', 'November', 'November', 'December', 'December', 'December', 'January', 'January', 'February', 'March', 'March', 'April', 'April', 'April', 'May', 'May']\n",
      "Sale Year: [2018, 2018, 2018, 2018, 2018, 2018, 2018, 2018, 2018, 2018, 2018, 2018, 2018, 2018, 2018, 2019, 2019, 2019, 2019, 2019, 2019, 2019, 2019, 2019, 2019, 2019, 2019, 2019, 2019, 2020, 2020, 2020, 2020, 2020, 2020, 2020, 2020, 2020, 2020]\n"
     ]
    }
   ],
   "source": [
    "for k, v in sales_data.items():\n",
    "    print(f\"{k}: {v}\")"
   ]
  },
  {
   "cell_type": "markdown",
   "metadata": {},
   "source": [
    "#### To access the data row wise"
   ]
  },
  {
   "cell_type": "code",
   "execution_count": 322,
   "metadata": {},
   "outputs": [
    {
     "data": {
      "text/plain": [
       "[1,\n",
       " 'PNT Designs',\n",
       " 'Paul Thomas',\n",
       " 'M',\n",
       " 43,\n",
       " 'Carnegie',\n",
       " 'OH',\n",
       " 'HP',\n",
       " 'M01-F0024',\n",
       " 'Desktop',\n",
       " 479.99,\n",
       " 315.5,\n",
       " 21.1,\n",
       " 143.39,\n",
       " 'Website',\n",
       " 'January',\n",
       " 2018]"
      ]
     },
     "execution_count": 322,
     "metadata": {},
     "output_type": "execute_result"
    }
   ],
   "source": [
    "def get_nth_row(dictionary, idx):\n",
    "    return [v[idx-1] for v in dictionary.values()]\n",
    "\n",
    "# Getting 1st row or 0th index row\n",
    "get_nth_row(sales_data, 1) "
   ]
  },
  {
   "cell_type": "markdown",
   "metadata": {},
   "source": [
    "#### To access the data column wise"
   ]
  },
  {
   "cell_type": "code",
   "execution_count": 323,
   "metadata": {},
   "outputs": [
    {
     "data": {
      "text/plain": [
       "[1,\n",
       " 2,\n",
       " 3,\n",
       " 4,\n",
       " 5,\n",
       " 6,\n",
       " 7,\n",
       " 8,\n",
       " 9,\n",
       " 10,\n",
       " 11,\n",
       " 12,\n",
       " 13,\n",
       " 14,\n",
       " 15,\n",
       " 16,\n",
       " 17,\n",
       " 18,\n",
       " 19,\n",
       " 20,\n",
       " 21,\n",
       " 22,\n",
       " 23,\n",
       " 24,\n",
       " 25,\n",
       " 26,\n",
       " 27,\n",
       " 28,\n",
       " 29,\n",
       " 30,\n",
       " 31,\n",
       " 32,\n",
       " 33,\n",
       " 34,\n",
       " 35,\n",
       " 36,\n",
       " 37,\n",
       " 38,\n",
       " 39]"
      ]
     },
     "execution_count": 323,
     "metadata": {},
     "output_type": "execute_result"
    }
   ],
   "source": [
    "sales_data[\"Sale ID\"]"
   ]
  },
  {
   "cell_type": "code",
   "execution_count": 324,
   "metadata": {},
   "outputs": [
    {
     "name": "stdout",
     "output_type": "stream",
     "text": [
      "Sex Profit List: {'M': [143.39, 118.64, 72.09, 146.69, 122.34, 143.39, 180.34, 122.34, 118.64, 146.69, 72.09, 143.39, 180.34, 122.34, 143.09, 143.09, 98.09, 143.39, 180.34, 143.39, 180.34, 72.09], 'F': [230.89, 98.09, 230.89, 180.34, 230.89, 72.09, 98.09, 146.69, 122.34, 143.09, 118.64, 180.34, 230.89, 72.09, 98.09, 146.69, 122.34]}\n"
     ]
    }
   ],
   "source": [
    "def get_key_profit_dict(dictionary):\n",
    "    freq_dict = Counter(dictionary)\n",
    "    profict_dict =  {i: [] for i in freq_dict.keys()}\n",
    "\n",
    "    for i in profict_dict:\n",
    "        for j in range(row_len-1):\n",
    "            if dictionary[j] == i: # find rows where the column value matches the key\n",
    "                profict_dict[i].append(sales_data[\"Profit\"][j])\n",
    "\n",
    "    return profict_dict\n",
    "\n",
    "sex_profit_list = get_key_profit_dict(sales_data[\"Contact Sex\"])\n",
    "print(f\"Sex Profit List: {sex_profit_list}\")"
   ]
  },
  {
   "cell_type": "markdown",
   "metadata": {},
   "source": [
    "### Analysis"
   ]
  },
  {
   "cell_type": "markdown",
   "metadata": {},
   "source": [
    "#### `What is the mean profit for ANY columns`"
   ]
  },
  {
   "cell_type": "code",
   "execution_count": 325,
   "metadata": {},
   "outputs": [],
   "source": [
    "def get_profit_mean_category_dict(dictionary, ordered=False):\n",
    "    category_profit_list = get_key_profit_dict(dictionary)\n",
    "    category_profit_mean =  {i: round(fmean(category_profit_list[i]), 2)  for i in category_profit_list.keys()}\n",
    "    if ordered:\n",
    "        return dict(sorted(\n",
    "            category_profit_mean.items(), \n",
    "            key=lambda i: i[1], # i[0]: keys, i[1]: values (here, mean)\n",
    "            reverse=True\n",
    "        ))\n",
    "    else:\n",
    "        return category_profit_mean"
   ]
  },
  {
   "cell_type": "code",
   "execution_count": 326,
   "metadata": {},
   "outputs": [
    {
     "name": "stdout",
     "output_type": "stream",
     "text": [
      "CONTACT SEX:\n",
      " {'F': 148.38, 'M': 133.48}\n",
      "CONTACT STATE:\n",
      " {'WV': 165.19, 'OH': 151.17, 'NY': 131.34, 'PA': 130.46}\n",
      "PRODUCT COMPANY:\n",
      " {'ASUS': 167.92, 'HP': 156.37, 'Apple': 146.69, 'Lenovo': 122.34, 'Dell': 89.55}\n",
      "PRODUCT TYPE:\n",
      " {'Desktop': 166.37, 'Tablet': 146.69, 'Laptop': 125.04}\n",
      "LEAD SOURCE:\n",
      " {'Flyer 3': 180.34, 'Flyer 1': 163.51, 'Flyer 2': 158.07, 'Flyer 4': 138.49, 'Website': 131.12, 'Email': 123.2}\n",
      "SALE MONTH:\n",
      " {'November': 156.4, 'January': 154.02, 'April': 153.13, 'February': 149.21, 'August': 148.69, 'May': 144.04, 'December': 137.37, 'July': 134.51, 'March': 93.19}\n",
      "SALE YEAR:\n",
      " {2018: 152.38, 2020: 138.97, 2019: 127.41}\n"
     ]
    }
   ],
   "source": [
    "target_columns = [#\"Company\",\n",
    "                  #\"Contact\",\n",
    "                  \"Contact Sex\",\n",
    "                  #\"Contact Age\",\n",
    "                  #\"Contact City\",\n",
    "                  \"Contact State\",\n",
    "                  \"Product Company\",\n",
    "                  #\"Product ID\",\n",
    "                  \"Product Type\",\n",
    "                  \"Lead Source\",\n",
    "                  \"Sale Month\",\n",
    "                  \"Sale Year\"]\n",
    "\n",
    "for col in target_columns:\n",
    "    print(f\"{col.upper()}:\\n {get_profit_mean_category_dict(sales_data[col], ordered=True)}\")"
   ]
  },
  {
   "cell_type": "code",
   "execution_count": 327,
   "metadata": {},
   "outputs": [
    {
     "name": "stdout",
     "output_type": "stream",
     "text": [
      "\n",
      "Contact Sex Data:\n",
      "\tCounter({'M': 22, 'F': 17})\n",
      "\tContact Sex Profit List: {'M': [143.39, 118.64, 72.09, 146.69, 122.34, 143.39, 180.34, 122.34, 118.64, 146.69, 72.09, 143.39, 180.34, 122.34, 143.09, 143.09, 98.09, 143.39, 180.34, 143.39, 180.34, 72.09], 'F': [230.89, 98.09, 230.89, 180.34, 230.89, 72.09, 98.09, 146.69, 122.34, 143.09, 118.64, 180.34, 230.89, 72.09, 98.09, 146.69, 122.34]}\n",
      "\tContact Sex Profit Mean: {'F': 148.38, 'M': 133.48}\n",
      "\n",
      "Contact State Data:\n",
      "\tCounter({'PA': 19, 'OH': 11, 'NY': 5, 'WV': 4})\n",
      "\tContact State Profit List: {'OH': [143.39, 180.34, 146.69, 122.34, 230.89, 146.69, 98.09, 122.34, 143.09, 230.89, 98.09], 'WV': [230.89, 143.39, 143.09, 143.39], 'PA': [118.64, 72.09, 98.09, 230.89, 180.34, 122.34, 118.64, 72.09, 72.09, 143.39, 180.34, 143.09, 98.09, 180.34, 180.34, 72.09, 143.39, 180.34, 72.09], 'NY': [146.69, 122.34, 118.64, 146.69, 122.34]}\n",
      "\tContact State Profit Mean: {'WV': 165.19, 'OH': 151.17, 'NY': 131.34, 'PA': 130.46}\n",
      "\n",
      "Product Company Data:\n",
      "\tCounter({'HP': 13, 'ASUS': 9, 'Dell': 8, 'Lenovo': 5, 'Apple': 4})\n",
      "\tProduct Company Profit List: {'HP': [143.39, 230.89, 98.09, 230.89, 143.39, 230.89, 98.09, 143.39, 98.09, 143.39, 230.89, 98.09, 143.39], 'Dell': [118.64, 72.09, 118.64, 72.09, 72.09, 118.64, 72.09, 72.09], 'ASUS': [180.34, 180.34, 180.34, 143.09, 143.09, 143.09, 180.34, 180.34, 180.34], 'Apple': [146.69, 146.69, 146.69, 146.69], 'Lenovo': [122.34, 122.34, 122.34, 122.34, 122.34]}\n",
      "\tProduct Company Profit Mean: {'ASUS': 167.92, 'HP': 156.37, 'Apple': 146.69, 'Lenovo': 122.34, 'Dell': 89.55}\n",
      "\n",
      "Product Type Data:\n",
      "\tCounter({'Laptop': 23, 'Desktop': 12, 'Tablet': 4})\n",
      "\tProduct Type Profit List: {'Desktop': [143.39, 230.89, 118.64, 230.89, 143.39, 230.89, 118.64, 143.39, 118.64, 143.39, 230.89, 143.39], 'Laptop': [72.09, 98.09, 180.34, 122.34, 180.34, 122.34, 72.09, 98.09, 72.09, 122.34, 180.34, 122.34, 143.09, 143.09, 143.09, 98.09, 180.34, 180.34, 72.09, 98.09, 122.34, 180.34, 72.09], 'Tablet': [146.69, 146.69, 146.69, 146.69]}\n",
      "\tProduct Type Profit Mean: {'Desktop': 166.37, 'Tablet': 146.69, 'Laptop': 125.04}\n",
      "\n",
      "Lead Source Data:\n",
      "\tCounter({'Website': 14, 'Flyer 2': 9, 'Email': 7, 'Flyer 4': 6, 'Flyer 1': 2, 'Flyer 3': 1})\n",
      "\tLead Source Profit List: {'Website': [143.39, 118.64, 72.09, 146.69, 118.64, 146.69, 122.34, 180.34, 122.34, 143.09, 146.69, 122.34, 180.34, 72.09], 'Flyer 4': [230.89, 98.09, 72.09, 143.39, 143.09, 143.39], 'Flyer 2': [230.89, 143.39, 230.89, 72.09, 118.64, 180.34, 143.39, 230.89, 72.09], 'Email': [180.34, 122.34, 122.34, 98.09, 143.09, 98.09, 98.09], 'Flyer 3': [180.34], 'Flyer 1': [146.69, 180.34]}\n",
      "\tLead Source Profit Mean: {'Flyer 3': 180.34, 'Flyer 1': 163.51, 'Flyer 2': 158.07, 'Flyer 4': 138.49, 'Website': 131.12, 'Email': 123.2}\n",
      "\n",
      "Sale Month Data:\n",
      "\tCounter({'March': 6, 'November': 6, 'January': 5, 'April': 5, 'December': 5, 'May': 4, 'February': 3, 'August': 3, 'July': 2})\n",
      "\tSale Month Profit List: {'January': [143.39, 230.89, 72.09, 143.39, 180.34], 'February': [118.64, 98.09, 230.89], 'March': [72.09, 98.09, 146.69, 72.09, 72.09, 98.09], 'April': [230.89, 122.34, 146.69, 122.34, 143.39], 'May': [180.34, 143.39, 180.34, 72.09], 'July': [146.69, 122.34], 'August': [143.39, 180.34, 122.34], 'November': [180.34, 230.89, 122.34, 143.09, 118.64, 143.09], 'December': [118.64, 146.69, 143.09, 98.09, 180.34]}\n",
      "\tSale Month Profit Mean: {'November': 156.4, 'January': 154.02, 'April': 153.13, 'February': 149.21, 'August': 148.69, 'May': 144.04, 'December': 137.37, 'July': 134.51, 'March': 93.19}\n",
      "\n",
      "Sale Year Data:\n",
      "\tCounter({2018: 15, 2019: 14, 2020: 10})\n",
      "\tSale Year Profit List: {2018: [143.39, 230.89, 118.64, 72.09, 98.09, 230.89, 180.34, 146.69, 122.34, 143.39, 180.34, 230.89, 122.34, 118.64, 146.69], 2019: [72.09, 98.09, 146.69, 72.09, 122.34, 143.39, 180.34, 122.34, 143.09, 118.64, 143.09, 143.09, 98.09, 180.34], 2020: [143.39, 180.34, 230.89, 72.09, 98.09, 146.69, 122.34, 143.39, 180.34, 72.09]}\n",
      "\tSale Year Profit Mean: {2018: 152.38, 2020: 138.97, 2019: 127.41}\n"
     ]
    }
   ],
   "source": [
    "for col in target_columns:\n",
    "    print(f\"\\n{col} Data:\")\n",
    "    print(f\"\\t{Counter(sales_data[col])}\")\n",
    "    print(f\"\\t{col} Profit List: {get_key_profit_dict(sales_data[col])}\")\n",
    "    print(f\"\\t{col} Profit Mean: {get_profit_mean_category_dict(sales_data[col], ordered=True)}\")"
   ]
  },
  {
   "cell_type": "markdown",
   "metadata": {},
   "source": [
    "- Assume that `higher profit mean` means `more pofitable category`\n",
    "\n",
    "- Why we're just assuming it?\n",
    "    - Because (one of such example):\n",
    "    \n",
    "        - The mean profit provides an average figure, but it doesn't reflect the volume of transactions. \n",
    "        - A category with a high average profit but very few sales may contribute less overall profit than a category with a slightly lower average profit but many more sales. \n",
    "        - For a more comprehensive view, look at both the average profit per sale and the total profit from all sales in that category."
   ]
  },
  {
   "cell_type": "markdown",
   "metadata": {},
   "source": [
    "#### Custom Statistics Functions"
   ]
  },
  {
   "cell_type": "code",
   "execution_count": 328,
   "metadata": {},
   "outputs": [
    {
     "data": {
      "text/plain": [
       "3.0"
      ]
     },
     "execution_count": 328,
     "metadata": {},
     "output_type": "execute_result"
    }
   ],
   "source": [
    "def custom_mean(data):\n",
    "    return sum(data) / len(data)\n",
    "\n",
    "custom_mean([1, 2, 3, 4, 5])"
   ]
  },
  {
   "cell_type": "code",
   "execution_count": 329,
   "metadata": {},
   "outputs": [
    {
     "data": {
      "text/plain": [
       "1.0810874155219827"
      ]
     },
     "execution_count": 329,
     "metadata": {},
     "output_type": "execute_result"
    }
   ],
   "source": [
    "def custom_stdev(data):\n",
    "    x_bar = custom_mean(data)\n",
    "    # To mitigate the error when len(data) = 1\n",
    "    try:\n",
    "        return sqrt(sum((x-x_bar)**2 for x in data) / (len(data)-1))\n",
    "    except:\n",
    "        return sqrt(sum((x-x_bar)**2 for x in data) / 1)\n",
    "\n",
    "custom_stdev([1.5, 2.5, 2.5, 2.75, 3.25, 4.75])"
   ]
  },
  {
   "cell_type": "code",
   "execution_count": 330,
   "metadata": {},
   "outputs": [
    {
     "name": "stdout",
     "output_type": "stream",
     "text": [
      "Coefficient Variation of Miles: 0.1721\n",
      "Coefficient Variation of Km: 0.1721\n",
      "Coefficient Variation (Both): 17.21%\n"
     ]
    }
   ],
   "source": [
    "def custom_coefficient_variation(data):\n",
    "    return round(custom_stdev(data) / custom_mean(data), 4)\n",
    "\n",
    "miles = [3, 4, 4.5, 3.5]\n",
    "km = [4.828, 6.437, 7.242, 5.632]\n",
    "\n",
    "cv_miles = custom_coefficient_variation(miles)\n",
    "print(f\"Coefficient Variation of Miles: {cv_miles}\")\n",
    "cv_km = custom_coefficient_variation(km)\n",
    "print(f\"Coefficient Variation of Km: {cv_km}\")\n",
    "\n",
    "if (cv_miles == cv_km):\n",
    "    print(f\"Coefficient Variation (Both): {cv_miles*100}%\")"
   ]
  },
  {
   "cell_type": "code",
   "execution_count": 331,
   "metadata": {},
   "outputs": [
    {
     "name": "stdout",
     "output_type": "stream",
     "text": [
      "Covariance: 5803.2\n",
      "Positive covariance (increases / moving together)\n"
     ]
    }
   ],
   "source": [
    "def custom_covariance(x, y):\n",
    "    x_bar = custom_mean(x)\n",
    "    y_bar = custom_mean(y)\n",
    "    cov = sum((x-x_bar)*(y-y_bar) for x, y in zip(x,y)) / (len(x) - 1)\n",
    "    return round(cov, 2)\n",
    "\n",
    "market_cap = [1532, 1488, 1343, 928, 615]\n",
    "earnings = [58, 35, 75, 41, 17]\n",
    "\n",
    "cov_MC_E = custom_covariance(market_cap, earnings)\n",
    "print(f\"Covariance: {cov_MC_E}\")\n",
    "\n",
    "if cov_MC_E > 0:\n",
    "    print(\"Positive covariance (increases / moving together)\")\n",
    "elif cov_MC_E < 0:\n",
    "    print(\"Negative covariance (decreases / moving in opposite direction)\")\n",
    "else: # cov_MC_E = 0 \n",
    "    print(\"Independent\")"
   ]
  },
  {
   "cell_type": "code",
   "execution_count": 332,
   "metadata": {},
   "outputs": [
    {
     "name": "stdout",
     "output_type": "stream",
     "text": [
      "Correlation (Pearson's): 0.6601\n",
      "Perfect positive linear relationship\n"
     ]
    }
   ],
   "source": [
    "def custom_correlation(x, y):\n",
    "    S_x = custom_stdev(x)\n",
    "    S_y = custom_stdev(y)\n",
    "    return round(custom_covariance(x,y) / (S_x*S_y), 4)\n",
    "\n",
    "r_MC_E = custom_correlation(market_cap, earnings)\n",
    "print(f\"Correlation (Pearson's): {r_MC_E}\")\n",
    "\n",
    "if round(r_MC_E) == 1:\n",
    "    print(\"Perfect positive linear relationship\")\n",
    "elif round(r_MC_E) == -1:\n",
    "    print(\"Perfect negative linear relationship\")\n",
    "elif round(r_MC_E) == 0:\n",
    "    print(\"No linear relationship\")"
   ]
  },
  {
   "cell_type": "code",
   "execution_count": 333,
   "metadata": {},
   "outputs": [
    {
     "name": "stdout",
     "output_type": "stream",
     "text": [
      "{'M': 133.48, 'F': 148.38}\n",
      "{'M': 133.48, 'F': 148.38}\n",
      "{'M': 33.22, 'F': 56.33}\n",
      "{'M': 33.22, 'F': 56.33}\n",
      "{'M': 0.25, 'F': 0.38}\n"
     ]
    }
   ],
   "source": [
    "def get_profit_stat_category_dict(dictionary, stat, custom=True):\n",
    "    category_profit_list = get_key_profit_dict(dictionary)\n",
    "    if stat.lower() == \"mean\":\n",
    "        if custom:\n",
    "            return  {i: round(custom_mean(category_profit_list[i]), 2)  for i in category_profit_list.keys()}\n",
    "        else:\n",
    "            return  {i: round(fmean(category_profit_list[i]), 2)  for i in category_profit_list.keys()}\n",
    "    elif stat.lower() == \"stdev\":\n",
    "        if custom:\n",
    "            return  {i: round(custom_stdev(category_profit_list[i]), 2)  for i in category_profit_list.keys()}\n",
    "        else:\n",
    "            return  {i: round(stdev(category_profit_list[i]), 2)  for i in category_profit_list.keys()}\n",
    "    elif stat.lower() == \"cv\": # Only custom func is available\n",
    "        return  {i: round(custom_coefficient_variation(category_profit_list[i]), 2)  for i in category_profit_list.keys()}\n",
    "\n",
    "print(get_profit_stat_category_dict(sales_data[\"Contact Sex\"], stat=\"mean\"))\n",
    "print(get_profit_stat_category_dict(sales_data[\"Contact Sex\"], stat=\"mean\", custom=False))\n",
    "print(get_profit_stat_category_dict(sales_data[\"Contact Sex\"], stat=\"stdev\"))\n",
    "print(get_profit_stat_category_dict(sales_data[\"Contact Sex\"], stat=\"stdev\", custom=False))\n",
    "print(get_profit_stat_category_dict(sales_data[\"Contact Sex\"], stat=\"cv\"))"
   ]
  },
  {
   "cell_type": "code",
   "execution_count": 334,
   "metadata": {},
   "outputs": [
    {
     "name": "stdout",
     "output_type": "stream",
     "text": [
      "\n",
      "Contact Sex Data:\n",
      "\t{'M': 22, 'F': 17}\n",
      "\tContact Sex Profit List: {'M': [143.39, 118.64, 72.09, 146.69, 122.34, 143.39, 180.34, 122.34, 118.64, 146.69, 72.09, 143.39, 180.34, 122.34, 143.09, 143.09, 98.09, 143.39, 180.34, 143.39, 180.34, 72.09], 'F': [230.89, 98.09, 230.89, 180.34, 230.89, 72.09, 98.09, 146.69, 122.34, 143.09, 118.64, 180.34, 230.89, 72.09, 98.09, 146.69, 122.34]}\n",
      "\tContact Sex Profit Mean: {'M': 133.48, 'F': 148.38}\n",
      "\tContact Sex Standard Deviation: {'M': 33.22, 'F': 56.33}\n",
      "\tContact Sex Coefficient Variation: {'M': 0.25, 'F': 0.38}\n",
      "\n",
      "Contact State Data:\n",
      "\t{'OH': 11, 'WV': 4, 'PA': 19, 'NY': 5}\n",
      "\tContact State Profit List: {'OH': [143.39, 180.34, 146.69, 122.34, 230.89, 146.69, 98.09, 122.34, 143.09, 230.89, 98.09], 'WV': [230.89, 143.39, 143.09, 143.39], 'PA': [118.64, 72.09, 98.09, 230.89, 180.34, 122.34, 118.64, 72.09, 72.09, 143.39, 180.34, 143.09, 98.09, 180.34, 180.34, 72.09, 143.39, 180.34, 72.09], 'NY': [146.69, 122.34, 118.64, 146.69, 122.34]}\n",
      "\tContact State Profit Mean: {'OH': 151.17, 'WV': 165.19, 'PA': 130.46, 'NY': 131.34}\n",
      "\tContact State Standard Deviation: {'OH': 45.85, 'WV': 43.8, 'PA': 48.59, 'NY': 14.09}\n",
      "\tContact State Coefficient Variation: {'OH': 0.3, 'WV': 0.27, 'PA': 0.37, 'NY': 0.11}\n",
      "\n",
      "Product Company Data:\n",
      "\t{'HP': 13, 'Dell': 8, 'ASUS': 9, 'Apple': 4, 'Lenovo': 5}\n",
      "\tProduct Company Profit List: {'HP': [143.39, 230.89, 98.09, 230.89, 143.39, 230.89, 98.09, 143.39, 98.09, 143.39, 230.89, 98.09, 143.39], 'Dell': [118.64, 72.09, 118.64, 72.09, 72.09, 118.64, 72.09, 72.09], 'ASUS': [180.34, 180.34, 180.34, 143.09, 143.09, 143.09, 180.34, 180.34, 180.34], 'Apple': [146.69, 146.69, 146.69, 146.69], 'Lenovo': [122.34, 122.34, 122.34, 122.34, 122.34]}\n",
      "\tProduct Company Profit Mean: {'HP': 156.37, 'Dell': 89.55, 'ASUS': 167.92, 'Apple': 146.69, 'Lenovo': 122.34}\n",
      "\tProduct Company Standard Deviation: {'HP': 55.26, 'Dell': 24.09, 'ASUS': 18.62, 'Apple': 0.0, 'Lenovo': 0.0}\n",
      "\tProduct Company Coefficient Variation: {'HP': 0.35, 'Dell': 0.27, 'ASUS': 0.11, 'Apple': 0.0, 'Lenovo': 0.0}\n",
      "\n",
      "Product Type Data:\n",
      "\t{'Desktop': 12, 'Laptop': 23, 'Tablet': 4}\n",
      "\tProduct Type Profit List: {'Desktop': [143.39, 230.89, 118.64, 230.89, 143.39, 230.89, 118.64, 143.39, 118.64, 143.39, 230.89, 143.39], 'Laptop': [72.09, 98.09, 180.34, 122.34, 180.34, 122.34, 72.09, 98.09, 72.09, 122.34, 180.34, 122.34, 143.09, 143.09, 143.09, 98.09, 180.34, 180.34, 72.09, 98.09, 122.34, 180.34, 72.09], 'Tablet': [146.69, 146.69, 146.69, 146.69]}\n",
      "\tProduct Type Profit Mean: {'Desktop': 166.37, 'Laptop': 125.04, 'Tablet': 146.69}\n",
      "\tProduct Type Standard Deviation: {'Desktop': 48.74, 'Laptop': 40.61, 'Tablet': 0.0}\n",
      "\tProduct Type Coefficient Variation: {'Desktop': 0.29, 'Laptop': 0.32, 'Tablet': 0.0}\n",
      "\n",
      "Lead Source Data:\n",
      "\t{'Website': 14, 'Flyer 4': 6, 'Flyer 2': 9, 'Email': 7, 'Flyer 3': 1, 'Flyer 1': 2}\n",
      "\tLead Source Profit List: {'Website': [143.39, 118.64, 72.09, 146.69, 118.64, 146.69, 122.34, 180.34, 122.34, 143.09, 146.69, 122.34, 180.34, 72.09], 'Flyer 4': [230.89, 98.09, 72.09, 143.39, 143.09, 143.39], 'Flyer 2': [230.89, 143.39, 230.89, 72.09, 118.64, 180.34, 143.39, 230.89, 72.09], 'Email': [180.34, 122.34, 122.34, 98.09, 143.09, 98.09, 98.09], 'Flyer 3': [180.34], 'Flyer 1': [146.69, 180.34]}\n",
      "\tLead Source Profit Mean: {'Website': 131.12, 'Flyer 4': 138.49, 'Flyer 2': 158.07, 'Email': 123.2, 'Flyer 3': 180.34, 'Flyer 1': 163.51}\n",
      "\tLead Source Standard Deviation: {'Website': 32.08, 'Flyer 4': 54.13, 'Flyer 2': 64.4, 'Email': 30.42, 'Flyer 3': 0.0, 'Flyer 1': 23.79}\n",
      "\tLead Source Coefficient Variation: {'Website': 0.24, 'Flyer 4': 0.39, 'Flyer 2': 0.41, 'Email': 0.25, 'Flyer 3': 0.0, 'Flyer 1': 0.15}\n",
      "\n",
      "Sale Month Data:\n",
      "\t{'January': 5, 'February': 3, 'March': 6, 'April': 5, 'May': 4, 'July': 2, 'August': 3, 'November': 6, 'December': 5}\n",
      "\tSale Month Profit List: {'January': [143.39, 230.89, 72.09, 143.39, 180.34], 'February': [118.64, 98.09, 230.89], 'March': [72.09, 98.09, 146.69, 72.09, 72.09, 98.09], 'April': [230.89, 122.34, 146.69, 122.34, 143.39], 'May': [180.34, 143.39, 180.34, 72.09], 'July': [146.69, 122.34], 'August': [143.39, 180.34, 122.34], 'November': [180.34, 230.89, 122.34, 143.09, 118.64, 143.09], 'December': [118.64, 146.69, 143.09, 98.09, 180.34]}\n",
      "\tSale Month Profit Mean: {'January': 154.02, 'February': 149.21, 'March': 93.19, 'April': 153.13, 'May': 144.04, 'July': 134.51, 'August': 148.69, 'November': 156.4, 'December': 137.37}\n",
      "\tSale Month Standard Deviation: {'January': 58.18, 'February': 71.48, 'March': 29.14, 'April': 44.94, 'May': 51.03, 'July': 17.22, 'August': 29.36, 'November': 42.57, 'December': 31.06}\n",
      "\tSale Month Coefficient Variation: {'January': 0.38, 'February': 0.48, 'March': 0.31, 'April': 0.29, 'May': 0.35, 'July': 0.13, 'August': 0.2, 'November': 0.27, 'December': 0.23}\n",
      "\n",
      "Sale Year Data:\n",
      "\t{2018: 15, 2019: 14, 2020: 10}\n",
      "\tSale Year Profit List: {2018: [143.39, 230.89, 118.64, 72.09, 98.09, 230.89, 180.34, 146.69, 122.34, 143.39, 180.34, 230.89, 122.34, 118.64, 146.69], 2019: [72.09, 98.09, 146.69, 72.09, 122.34, 143.39, 180.34, 122.34, 143.09, 118.64, 143.09, 143.09, 98.09, 180.34], 2020: [143.39, 180.34, 230.89, 72.09, 98.09, 146.69, 122.34, 143.39, 180.34, 72.09]}\n",
      "\tSale Year Profit Mean: {2018: 152.38, 2019: 127.41, 2020: 138.97}\n",
      "\tSale Year Standard Deviation: {2018: 49.1, 2019: 33.9, 2020: 50.4}\n",
      "\tSale Year Coefficient Variation: {2018: 0.32, 2019: 0.27, 2020: 0.36}\n"
     ]
    }
   ],
   "source": [
    "for col in target_columns:\n",
    "    print(f\"\\n{col} Data:\")\n",
    "    print(f\"\\t{dict(Counter(sales_data[col]))}\")\n",
    "    print(f\"\\t{col} Profit List: {get_key_profit_dict(sales_data[col])}\")\n",
    "    print(f\"\\t{col} Profit Mean: {get_profit_stat_category_dict(sales_data[col], stat=\"mean\")}\")\n",
    "    print(f\"\\t{col} Standard Deviation: {get_profit_stat_category_dict(sales_data[col], stat=\"stdev\")}\")\n",
    "    print(f\"\\t{col} Coefficient Variation: {get_profit_stat_category_dict(sales_data[col], stat=\"cv\")}\")"
   ]
  },
  {
   "cell_type": "markdown",
   "metadata": {},
   "source": [
    "#### Grouping 'Contact sex'"
   ]
  },
  {
   "cell_type": "code",
   "execution_count": 335,
   "metadata": {},
   "outputs": [
    {
     "data": {
      "text/plain": [
       "{'20-30': 4, '30-40': 5, '40-50': 15, '50-60': 15}"
      ]
     },
     "execution_count": 335,
     "metadata": {},
     "output_type": "execute_result"
    }
   ],
   "source": [
    "def get_range_date(sales_data_column):\n",
    "    # Counting unique elements\n",
    "    sales_data_category = Counter(sales_data_column)\n",
    "    # Rounding numbers down to their nearest lower multiples (10, 20, 30, ...)\n",
    "    rng = list(floor(k/10) * 10 for k in sales_data_category.keys())\n",
    "    # print(rng)\n",
    "    \n",
    "    # All possible intervals\n",
    "    possible_rng = range(min(rng), max(rng)+10, 10) # range(20, 60, 10)\n",
    "    # Dictionary of possible intervals\n",
    "    rng_dict = {} \n",
    "\n",
    "    # Binning values into intervals of 10\n",
    "    for i in possible_rng:\n",
    "        for j in sales_data_category:\n",
    "            if j >= i and j < i+10:\n",
    "                rng_dict[f\"{i}-{i+10}\"] = rng_dict.get(f\"{i}-{i+10}\", 0) + sales_data_category[j]\n",
    "    \n",
    "    # Removing the count < 0\n",
    "    return {rng: val for rng, val in rng_dict.items() if val > 0}\n",
    "\n",
    "\n",
    "\n",
    "get_range_date(sales_data[\"Contact Age\"])"
   ]
  },
  {
   "cell_type": "code",
   "execution_count": 336,
   "metadata": {},
   "outputs": [
    {
     "data": {
      "text/plain": [
       "{'40-50': 15, '30-40': 5, '20-30': 4, '50-60': 15}"
      ]
     },
     "execution_count": 336,
     "metadata": {},
     "output_type": "execute_result"
    }
   ],
   "source": [
    "def get_range_date_optimized(sales_data_column):\n",
    "    \n",
    "    sales_data_category = Counter(sales_data_column)\n",
    "\n",
    "    range_dict = {}\n",
    "    for value, count in sales_data_category.items():\n",
    "\n",
    "        floored_value = floor(value/10) * 10 \n",
    "        range_key = f\"{floored_value}-{floored_value + 10}\"\n",
    "\n",
    "        # Equivalent to:\n",
    "        # if range_key in range_dict:\n",
    "        #     range_dict[range_key] += count\n",
    "        # else:\n",
    "        #     range_dict[range_key] = count\n",
    "        range_dict[range_key] = range_dict.get(range_key, 0) + count\n",
    "\n",
    "    return range_dict\n",
    "\n",
    "get_range_date_optimized(sales_data[\"Contact Age\"])"
   ]
  },
  {
   "cell_type": "markdown",
   "metadata": {},
   "source": [
    "#### Acessing `Profit` column based on ANY column"
   ]
  },
  {
   "cell_type": "code",
   "execution_count": 337,
   "metadata": {},
   "outputs": [
    {
     "data": {
      "text/plain": [
       "{'40-50': [143.39,\n",
       "  122.34,\n",
       "  230.89,\n",
       "  122.34,\n",
       "  122.34,\n",
       "  180.34,\n",
       "  98.09,\n",
       "  146.69,\n",
       "  118.64,\n",
       "  98.09,\n",
       "  146.69,\n",
       "  180.34,\n",
       "  72.09,\n",
       "  180.34,\n",
       "  72.09],\n",
       " '30-40': [230.89, 143.09, 72.09, 98.09, 72.09],\n",
       " '20-30': [118.64, 146.69, 72.09, 143.09],\n",
       " '50-60': [98.09,\n",
       "  180.34,\n",
       "  122.34,\n",
       "  143.09,\n",
       "  143.39,\n",
       "  146.69,\n",
       "  143.39,\n",
       "  230.89,\n",
       "  230.89,\n",
       "  122.34,\n",
       "  143.39,\n",
       "  143.39,\n",
       "  118.64,\n",
       "  180.34,\n",
       "  180.34]}"
      ]
     },
     "execution_count": 337,
     "metadata": {},
     "output_type": "execute_result"
    }
   ],
   "source": [
    "def get_range_profit_list(sales_data_column):\n",
    "    \n",
    "    sales_data_category = get_key_profit_dict(sales_data_column)\n",
    "\n",
    "    range_dict = {}\n",
    "    for value, count in sales_data_category.items():\n",
    "\n",
    "        floored_value = floor(value/10) * 10 \n",
    "        range_key = f\"{floored_value}-{floored_value + 10}\"\n",
    "\n",
    "        # Equivalent to:\n",
    "        # if range_key in range_dict:\n",
    "        #     range_dict[range_key] += count\n",
    "        # else:\n",
    "        #     range_dict[range_key] = count\n",
    "        range_dict[range_key] = range_dict.get(range_key, []) + count\n",
    "        # `[]` instead of `0` because we're dealing with list\n",
    "\n",
    "    return range_dict\n",
    "\n",
    "get_range_profit_list(sales_data[\"Contact Age\"])\n"
   ]
  },
  {
   "cell_type": "code",
   "execution_count": 338,
   "metadata": {},
   "outputs": [
    {
     "data": {
      "text/plain": [
       "{'40-50': 135.64666666666668,\n",
       " '30-40': 123.25,\n",
       " '20-30': 120.1275,\n",
       " '50-60': 155.17}"
      ]
     },
     "execution_count": 338,
     "metadata": {},
     "output_type": "execute_result"
    }
   ],
   "source": [
    "def get_range_profit_mean_category_dict(sales_data_category):\n",
    "    range_profit_dict =  get_range_profit_list(sales_data_category)\n",
    "    return {k: custom_mean(v) for k, v in range_profit_dict.items()}\n",
    "\n",
    "get_range_profit_mean_category_dict(sales_data[\"Contact Age\"])"
   ]
  },
  {
   "cell_type": "code",
   "execution_count": 339,
   "metadata": {},
   "outputs": [
    {
     "name": "stdout",
     "output_type": "stream",
     "text": [
      "Contact Sex Data:\n",
      "\t{'M': 22, 'F': 17}\n",
      "\tContact Sex Profit List: {'M': [143.39, 118.64, 72.09, 146.69, 122.34, 143.39, 180.34, 122.34, 118.64, 146.69, 72.09, 143.39, 180.34, 122.34, 143.09, 143.09, 98.09, 143.39, 180.34, 143.39, 180.34, 72.09], 'F': [230.89, 98.09, 230.89, 180.34, 230.89, 72.09, 98.09, 146.69, 122.34, 143.09, 118.64, 180.34, 230.89, 72.09, 98.09, 146.69, 122.34]}\n",
      "\tContact Sex Profit Mean: {'M': 133.48, 'F': 148.38}\n",
      "\tContact Sex Standard Deviation: {'M': 33.22, 'F': 56.33}\n",
      "\tContact Sex Coefficient Variation: {'M': 0.25, 'F': 0.38}\n",
      "\n",
      "Contact State Data:\n",
      "\t{'OH': 11, 'WV': 4, 'PA': 19, 'NY': 5}\n",
      "\tContact State Profit List: {'OH': [143.39, 180.34, 146.69, 122.34, 230.89, 146.69, 98.09, 122.34, 143.09, 230.89, 98.09], 'WV': [230.89, 143.39, 143.09, 143.39], 'PA': [118.64, 72.09, 98.09, 230.89, 180.34, 122.34, 118.64, 72.09, 72.09, 143.39, 180.34, 143.09, 98.09, 180.34, 180.34, 72.09, 143.39, 180.34, 72.09], 'NY': [146.69, 122.34, 118.64, 146.69, 122.34]}\n",
      "\tContact State Profit Mean: {'OH': 151.17, 'WV': 165.19, 'PA': 130.46, 'NY': 131.34}\n",
      "\tContact State Standard Deviation: {'OH': 45.85, 'WV': 43.8, 'PA': 48.59, 'NY': 14.09}\n",
      "\tContact State Coefficient Variation: {'OH': 0.3, 'WV': 0.27, 'PA': 0.37, 'NY': 0.11}\n",
      "\n",
      "Product Company Data:\n",
      "\t{'HP': 13, 'Dell': 8, 'ASUS': 9, 'Apple': 4, 'Lenovo': 5}\n",
      "\tProduct Company Profit List: {'HP': [143.39, 230.89, 98.09, 230.89, 143.39, 230.89, 98.09, 143.39, 98.09, 143.39, 230.89, 98.09, 143.39], 'Dell': [118.64, 72.09, 118.64, 72.09, 72.09, 118.64, 72.09, 72.09], 'ASUS': [180.34, 180.34, 180.34, 143.09, 143.09, 143.09, 180.34, 180.34, 180.34], 'Apple': [146.69, 146.69, 146.69, 146.69], 'Lenovo': [122.34, 122.34, 122.34, 122.34, 122.34]}\n",
      "\tProduct Company Profit Mean: {'HP': 156.37, 'Dell': 89.55, 'ASUS': 167.92, 'Apple': 146.69, 'Lenovo': 122.34}\n",
      "\tProduct Company Standard Deviation: {'HP': 55.26, 'Dell': 24.09, 'ASUS': 18.62, 'Apple': 0.0, 'Lenovo': 0.0}\n",
      "\tProduct Company Coefficient Variation: {'HP': 0.35, 'Dell': 0.27, 'ASUS': 0.11, 'Apple': 0.0, 'Lenovo': 0.0}\n",
      "\n",
      "Product Type Data:\n",
      "\t{'Desktop': 12, 'Laptop': 23, 'Tablet': 4}\n",
      "\tProduct Type Profit List: {'Desktop': [143.39, 230.89, 118.64, 230.89, 143.39, 230.89, 118.64, 143.39, 118.64, 143.39, 230.89, 143.39], 'Laptop': [72.09, 98.09, 180.34, 122.34, 180.34, 122.34, 72.09, 98.09, 72.09, 122.34, 180.34, 122.34, 143.09, 143.09, 143.09, 98.09, 180.34, 180.34, 72.09, 98.09, 122.34, 180.34, 72.09], 'Tablet': [146.69, 146.69, 146.69, 146.69]}\n",
      "\tProduct Type Profit Mean: {'Desktop': 166.37, 'Laptop': 125.04, 'Tablet': 146.69}\n",
      "\tProduct Type Standard Deviation: {'Desktop': 48.74, 'Laptop': 40.61, 'Tablet': 0.0}\n",
      "\tProduct Type Coefficient Variation: {'Desktop': 0.29, 'Laptop': 0.32, 'Tablet': 0.0}\n",
      "\n",
      "Lead Source Data:\n",
      "\t{'Website': 14, 'Flyer 4': 6, 'Flyer 2': 9, 'Email': 7, 'Flyer 3': 1, 'Flyer 1': 2}\n",
      "\tLead Source Profit List: {'Website': [143.39, 118.64, 72.09, 146.69, 118.64, 146.69, 122.34, 180.34, 122.34, 143.09, 146.69, 122.34, 180.34, 72.09], 'Flyer 4': [230.89, 98.09, 72.09, 143.39, 143.09, 143.39], 'Flyer 2': [230.89, 143.39, 230.89, 72.09, 118.64, 180.34, 143.39, 230.89, 72.09], 'Email': [180.34, 122.34, 122.34, 98.09, 143.09, 98.09, 98.09], 'Flyer 3': [180.34], 'Flyer 1': [146.69, 180.34]}\n",
      "\tLead Source Profit Mean: {'Website': 131.12, 'Flyer 4': 138.49, 'Flyer 2': 158.07, 'Email': 123.2, 'Flyer 3': 180.34, 'Flyer 1': 163.51}\n",
      "\tLead Source Standard Deviation: {'Website': 32.08, 'Flyer 4': 54.13, 'Flyer 2': 64.4, 'Email': 30.42, 'Flyer 3': 0.0, 'Flyer 1': 23.79}\n",
      "\tLead Source Coefficient Variation: {'Website': 0.24, 'Flyer 4': 0.39, 'Flyer 2': 0.41, 'Email': 0.25, 'Flyer 3': 0.0, 'Flyer 1': 0.15}\n",
      "\n",
      "Sale Month Data:\n",
      "\t{'January': 5, 'February': 3, 'March': 6, 'April': 5, 'May': 4, 'July': 2, 'August': 3, 'November': 6, 'December': 5}\n",
      "\tSale Month Profit List: {'January': [143.39, 230.89, 72.09, 143.39, 180.34], 'February': [118.64, 98.09, 230.89], 'March': [72.09, 98.09, 146.69, 72.09, 72.09, 98.09], 'April': [230.89, 122.34, 146.69, 122.34, 143.39], 'May': [180.34, 143.39, 180.34, 72.09], 'July': [146.69, 122.34], 'August': [143.39, 180.34, 122.34], 'November': [180.34, 230.89, 122.34, 143.09, 118.64, 143.09], 'December': [118.64, 146.69, 143.09, 98.09, 180.34]}\n",
      "\tSale Month Profit Mean: {'January': 154.02, 'February': 149.21, 'March': 93.19, 'April': 153.13, 'May': 144.04, 'July': 134.51, 'August': 148.69, 'November': 156.4, 'December': 137.37}\n",
      "\tSale Month Standard Deviation: {'January': 58.18, 'February': 71.48, 'March': 29.14, 'April': 44.94, 'May': 51.03, 'July': 17.22, 'August': 29.36, 'November': 42.57, 'December': 31.06}\n",
      "\tSale Month Coefficient Variation: {'January': 0.38, 'February': 0.48, 'March': 0.31, 'April': 0.29, 'May': 0.35, 'July': 0.13, 'August': 0.2, 'November': 0.27, 'December': 0.23}\n",
      "\n",
      "Sale Year Data:\n",
      "\t{2018: 15, 2019: 14, 2020: 10}\n",
      "\tSale Year Profit List: {2018: [143.39, 230.89, 118.64, 72.09, 98.09, 230.89, 180.34, 146.69, 122.34, 143.39, 180.34, 230.89, 122.34, 118.64, 146.69], 2019: [72.09, 98.09, 146.69, 72.09, 122.34, 143.39, 180.34, 122.34, 143.09, 118.64, 143.09, 143.09, 98.09, 180.34], 2020: [143.39, 180.34, 230.89, 72.09, 98.09, 146.69, 122.34, 143.39, 180.34, 72.09]}\n",
      "\tSale Year Profit Mean: {2018: 152.38, 2019: 127.41, 2020: 138.97}\n",
      "\tSale Year Standard Deviation: {2018: 49.1, 2019: 33.9, 2020: 50.4}\n",
      "\tSale Year Coefficient Variation: {2018: 0.32, 2019: 0.27, 2020: 0.36}\n",
      "\n",
      "{'20-30': 4, '30-40': 5, '40-50': 15, '50-60': 15}\n",
      "{'20-30': [118.64, 146.69, 72.09, 143.09], '30-40': [230.89, 143.09, 72.09, 98.09, 72.09], '40-50': [143.39, 122.34, 230.89, 122.34, 122.34, 180.34, 98.09, 146.69, 118.64, 98.09, 146.69, 180.34, 72.09, 180.34, 72.09], '50-60': [98.09, 180.34, 122.34, 143.09, 143.39, 146.69, 143.39, 230.89, 230.89, 122.34, 143.39, 143.39, 118.64, 180.34, 180.34]}\n",
      "{'20-30': 120.1275, '30-40': 123.25, '40-50': 135.64666666666668, '50-60': 155.17}\n"
     ]
    }
   ],
   "source": [
    "for col in target_columns:\n",
    "    print(f\"{col} Data:\")\n",
    "    print(f\"\\t{dict(Counter(sales_data[col]))}\")\n",
    "    print(f\"\\t{col} Profit List: {get_key_profit_dict(sales_data[col])}\")\n",
    "    print(f\"\\t{col} Profit Mean: {get_profit_stat_category_dict(sales_data[col], stat=\"mean\")}\")\n",
    "    print(f\"\\t{col} Standard Deviation: {get_profit_stat_category_dict(sales_data[col], stat=\"stdev\")}\")\n",
    "    print(f\"\\t{col} Coefficient Variation: {get_profit_stat_category_dict(sales_data[col], stat=\"cv\")}\\n\")\n",
    "\n",
    "print(\n",
    "    dict(sorted(get_range_date_optimized(sales_data[\"Contact Age\"]).items(),\n",
    "                key = lambda x: x[0]))\n",
    ")\n",
    "print(\n",
    "    dict(sorted(get_range_profit_list(sales_data[\"Contact Age\"]).items(),\n",
    "                key = lambda x: x[0]))\n",
    ")\n",
    "print(\n",
    "    dict(sorted(get_range_profit_mean_category_dict(sales_data[\"Contact Age\"]).items(),\n",
    "                key = lambda x: x[0]))\n",
    ")"
   ]
  },
  {
   "cell_type": "markdown",
   "metadata": {},
   "source": [
    "- In conclusion the porfitable age range is between 50 and 60 (highest average profit of 155.17)"
   ]
  },
  {
   "cell_type": "markdown",
   "metadata": {},
   "source": [
    "### Z-Score, Z-table, T-table and Confidence Intervals"
   ]
  },
  {
   "cell_type": "markdown",
   "metadata": {},
   "source": [
    "#### Normalization"
   ]
  },
  {
   "cell_type": "code",
   "execution_count": 340,
   "metadata": {},
   "outputs": [
    {
     "data": {
      "text/plain": [
       "[-1.8973665961010275,\n",
       " -1.2649110640673518,\n",
       " 0.0,\n",
       " 0.0,\n",
       " 0.0,\n",
       " 0.6324555320336759,\n",
       " 0.6324555320336759,\n",
       " 0.6324555320336759,\n",
       " 1.2649110640673518]"
      ]
     },
     "execution_count": 340,
     "metadata": {},
     "output_type": "execute_result"
    }
   ],
   "source": [
    "def normalize_list(data):\n",
    "    stdev = custom_stdev(data)\n",
    "    mean = custom_mean(data)\n",
    "    return [(x-mean)/stdev for x in data]\n",
    "\n",
    "data = [1, 2, 4, 4, 4, 5, 5, 5, 6]\n",
    "normalize_list(data)"
   ]
  },
  {
   "cell_type": "code",
   "execution_count": 341,
   "metadata": {},
   "outputs": [
    {
     "name": "stdout",
     "output_type": "stream",
     "text": [
      "Sum: 36\n",
      "Mean: 4.0\n",
      "Standard Deviation: 1.58\n",
      "\n",
      "Normalized List: [-1.8973665961010275, -1.2649110640673518, 0.0, 0.0, 0.0, 0.6324555320336759, 0.6324555320336759, 0.6324555320336759, 1.2649110640673518]\n",
      "Normalized Mean: 0\n",
      "Normalized Standard Deviation: 1\n"
     ]
    }
   ],
   "source": [
    "print(f\"Sum: {sum(data)}\")\n",
    "print(f\"Mean: {custom_mean(data)}\")\n",
    "print(f\"Standard Deviation: {round(custom_stdev(data), 2)}\")\n",
    "\n",
    "normalized_list = normalize_list(data)\n",
    "print(f\"\\nNormalized List: {normalized_list}\")\n",
    "print(f\"Normalized Mean: {round(custom_mean(normalized_list))}\")\n",
    "print(f\"Normalized Standard Deviation: {round(custom_stdev(normalized_list))}\")"
   ]
  },
  {
   "cell_type": "markdown",
   "metadata": {},
   "source": [
    "#### Standard Error (stdev)"
   ]
  },
  {
   "cell_type": "code",
   "execution_count": 342,
   "metadata": {},
   "outputs": [
    {
     "name": "stdout",
     "output_type": "stream",
     "text": [
      "Standard Error: 0.3333333333333333\n"
     ]
    }
   ],
   "source": [
    "def sample_error(data):\n",
    "    return custom_stdev(data) / sqrt(len(data))\n",
    "\n",
    "data = [1, 2, 4, 4, 4, 5, 5, 5, 6]\n",
    "print(f\"Standard Error: {sample_error(normalized_list)}\")"
   ]
  },
  {
   "cell_type": "markdown",
   "metadata": {},
   "source": [
    "#### Confidence Interval - `Z-Table`"
   ]
  },
  {
   "attachments": {
    "first-half-of-z-table.png": {
     "image/png": "[encoded data removed]"
    }
   },
   "cell_type": "markdown",
   "metadata": {},
   "source": [
    "![first-half-of-z-table.png](attachment:first-half-of-z-table.png)"
   ]
  },
  {
   "cell_type": "code",
   "execution_count": 343,
   "metadata": {},
   "outputs": [
    {
     "name": "stdout",
     "output_type": "stream",
     "text": [
      "[0.5, 0.50399, 0.50798, 0.51197, 0.51595, 0.51994, 0.52392, 0.5279, 0.53188, 0.53586]\n",
      "[0.53983, 0.5438, 0.54776, 0.55172, 0.55567, 0.55962, 0.56356, 0.56749, 0.57142, 0.57535]\n",
      "[0.57926, 0.58317, 0.58706, 0.59095, 0.59483, 0.59871, 0.60257, 0.60642, 0.61026, 0.61409]\n",
      "[0.61791, 0.62172, 0.62552, 0.6293, 0.63307, 0.63683, 0.64058, 0.64431, 0.64803, 0.65173]\n",
      "[0.65542, 0.6591, 0.66276, 0.6664, 0.67003, 0.67364, 0.67724, 0.68082, 0.68439, 0.68793]\n",
      "[0.69146, 0.69497, 0.69847, 0.70194, 0.7054, 0.70884, 0.71226, 0.71566, 0.71904, 0.7224]\n",
      "[0.72575, 0.72907, 0.73237, 0.73565, 0.73891, 0.74215, 0.74537, 0.74857, 0.75175, 0.7549]\n",
      "[0.75804, 0.76115, 0.76424, 0.7673, 0.77035, 0.77337, 0.77637, 0.77935, 0.7823, 0.78524]\n",
      "[0.78814, 0.79103, 0.79389, 0.79673, 0.79955, 0.80234, 0.80511, 0.80785, 0.81057, 0.81327]\n",
      "[0.81594, 0.81859, 0.82121, 0.82381, 0.82639, 0.82894, 0.83147, 0.83398, 0.83646, 0.83891]\n",
      "[0.84134, 0.84375, 0.84614, 0.84849, 0.85083, 0.85314, 0.85543, 0.85769, 0.85993, 0.86214]\n",
      "[0.86433, 0.8665, 0.86864, 0.87076, 0.87286, 0.87493, 0.87698, 0.879, 0.881, 0.88298]\n",
      "[0.88493, 0.88686, 0.88877, 0.89065, 0.89251, 0.89435, 0.89617, 0.89796, 0.89973, 0.90147]\n",
      "[0.9032, 0.9049, 0.90658, 0.90824, 0.90988, 0.91149, 0.91309, 0.91466, 0.91621, 0.91774]\n",
      "[0.91924, 0.92073, 0.9222, 0.92364, 0.92507, 0.92647, 0.92785, 0.92922, 0.93056, 0.93189]\n",
      "[0.93319, 0.93448, 0.93574, 0.93699, 0.93822, 0.93943, 0.94062, 0.94179, 0.94295, 0.94408]\n",
      "[0.9452, 0.9463, 0.94738, 0.94845, 0.9495, 0.95053, 0.95154, 0.95254, 0.95352, 0.95449]\n",
      "[0.95543, 0.95637, 0.95728, 0.95818, 0.95907, 0.95994, 0.9608, 0.96164, 0.96246, 0.96327]\n",
      "[0.96407, 0.96485, 0.96562, 0.96638, 0.96712, 0.96784, 0.96856, 0.96926, 0.96995, 0.97062]\n",
      "[0.97128, 0.97193, 0.97257, 0.9732, 0.97381, 0.97441, 0.975, 0.97558, 0.97615, 0.9767]\n",
      "[0.97725, 0.97778, 0.97831, 0.97882, 0.97932, 0.97982, 0.9803, 0.98077, 0.98124, 0.98169]\n",
      "[0.98214, 0.98257, 0.983, 0.98341, 0.98382, 0.98422, 0.98461, 0.985, 0.98537, 0.98574]\n",
      "[0.9861, 0.98645, 0.98679, 0.98713, 0.98745, 0.98778, 0.98809, 0.9884, 0.9887, 0.98899]\n",
      "[0.98928, 0.98956, 0.98983, 0.9901, 0.99036, 0.99061, 0.99086, 0.99111, 0.99134, 0.99158]\n",
      "[0.9918, 0.99202, 0.99224, 0.99245, 0.99266, 0.99286, 0.99305, 0.99324, 0.99343, 0.99361]\n",
      "[0.99379, 0.99396, 0.99413, 0.9943, 0.99446, 0.99461, 0.99477, 0.99492, 0.99506, 0.9952]\n",
      "[0.99534, 0.99547, 0.9956, 0.99573, 0.99585, 0.99598, 0.99609, 0.99621, 0.99632, 0.99643]\n",
      "[0.99653, 0.99664, 0.99674, 0.99683, 0.99693, 0.99702, 0.99711, 0.9972, 0.99728, 0.99736]\n",
      "[0.99744, 0.99752, 0.9976, 0.99767, 0.99774, 0.99781, 0.99788, 0.99795, 0.99801, 0.99807]\n",
      "[0.99813, 0.99819, 0.99825, 0.99831, 0.99836, 0.99841, 0.99846, 0.99851, 0.99856, 0.99861]\n",
      "[0.99865, 0.99869, 0.99874, 0.99878, 0.99882, 0.99886, 0.99889, 0.99893, 0.99896, 0.999]\n",
      "[0.99903, 0.99906, 0.9991, 0.99913, 0.99916, 0.99918, 0.99921, 0.99924, 0.99926, 0.99929]\n",
      "[0.99931, 0.99934, 0.99936, 0.99938, 0.9994, 0.99942, 0.99944, 0.99946, 0.99948, 0.9995]\n",
      "[0.99952, 0.99953, 0.99955, 0.99957, 0.99958, 0.9996, 0.99961, 0.99962, 0.99964, 0.99965]\n",
      "[0.99966, 0.99968, 0.99969, 0.9997, 0.99971, 0.99972, 0.99973, 0.99974, 0.99975, 0.99976]\n",
      "[0.99977, 0.99978, 0.99978, 0.99979, 0.9998, 0.99981, 0.99981, 0.99982, 0.99983, 0.99983]\n",
      "[0.99984, 0.99985, 0.99985, 0.99986, 0.99986, 0.99987, 0.99987, 0.99988, 0.99988, 0.99989]\n",
      "[0.99989, 0.9999, 0.9999, 0.9999, 0.99991, 0.99991, 0.99992, 0.99992, 0.99992, 0.99992]\n",
      "[0.99993, 0.99993, 0.99993, 0.99994, 0.99994, 0.99994, 0.99994, 0.99995, 0.99995, 0.99995]\n",
      "[0.99995, 0.99995, 0.99996, 0.99996, 0.99996, 0.99996, 0.99996, 0.99996, 0.99997, 0.99997]\n"
     ]
    }
   ],
   "source": [
    "z_table = []\n",
    "with open(\"./data/z-table-copy-paste.txt\", \"r\") as file:\n",
    "    for line in file:\n",
    "        row = list(map(float, line.split()))\n",
    "        del row[0]\n",
    "        print(row)\n",
    "        \n",
    "        z_table.append(row)"
   ]
  },
  {
   "cell_type": "code",
   "execution_count": 344,
   "metadata": {},
   "outputs": [
    {
     "data": {
      "text/plain": [
       "3.32"
      ]
     },
     "execution_count": 344,
     "metadata": {},
     "output_type": "execute_result"
    }
   ],
   "source": [
    "# leetcode: 74. Search a 2D matrix\n",
    "# binary search on rows and columns: O(log m + log n)\n",
    "def get_z_score(z_table, target): \n",
    "    ROWS, COLS = len(z_table), len(z_table[0])\n",
    "\n",
    "    # Binary search on rows\n",
    "    top, bot = 0, ROWS - 1\n",
    "    while top <= bot:\n",
    "        row = (top + bot) // 2\n",
    "        if target > z_table[row][-1]:\n",
    "            top = row + 1\n",
    "        elif target < z_table[row][0]:\n",
    "            bot = row - 1\n",
    "        else:\n",
    "            break\n",
    "    \n",
    "    if not (top <= bot):\n",
    "        raise ValueError(\"Target value not found in Z-Table\")\n",
    "    \n",
    "    # Binary search on columns\n",
    "    l, r = 0, COLS - 1\n",
    "    while l <= r:\n",
    "        m = (l + r) // 2\n",
    "        if target > z_table[row][m]:\n",
    "            l = m + 1\n",
    "        elif target < z_table[row][m]:\n",
    "            r = m - 1 \n",
    "        else:\n",
    "            return round(row/10 + m/100, 2)\n",
    "    return False\n",
    "\n",
    "get_z_score(z_table, .99955)"
   ]
  },
  {
   "cell_type": "code",
   "execution_count": 345,
   "metadata": {},
   "outputs": [
    {
     "name": "stdout",
     "output_type": "stream",
     "text": [
      "Confidence interval: (2667401.97, 15290226.43)\n"
     ]
    }
   ],
   "source": [
    "# Calculate Confidence Interval\n",
    "mean = 8_978_814.2\n",
    "confidence = 0.95\n",
    "alpha = 1 - confidence\n",
    "critical_probability = 1 - (alpha / 2)\n",
    "z_score = get_z_score(z_table, critical_probability )\n",
    "population_sd = 1_247_1425.74\n",
    "sample_size = 15\n",
    "SEM = population_sd / sqrt(sample_size)\n",
    "MOE = z_score * SEM\n",
    "print(f\"Confidence interval: ({round(mean - MOE, 2)}, {round(mean + MOE, 2)})\")\n"
   ]
  },
  {
   "cell_type": "code",
   "execution_count": 346,
   "metadata": {},
   "outputs": [
    {
     "data": {
      "text/plain": [
       "(2667401.97, 15290226.43)"
      ]
     },
     "execution_count": 346,
     "metadata": {},
     "output_type": "execute_result"
    }
   ],
   "source": [
    "def get_z_confidence_interval(data, confidence=95):\n",
    "    if confidence not in [90, 95, 99]:\n",
    "        raise ValueError(\"Confidence level must be one of 90, 95 or 99\")\n",
    "\n",
    "    sample_mean = custom_mean(data)\n",
    "    sd = custom_stdev(data) # population stddev\n",
    "    sample_size = len(data)\n",
    "\n",
    "    alpha = 1 - (confidence / 100)\n",
    "    critical_probability = 1 - (alpha / 2)\n",
    "    z_score = get_z_score(z_table, critical_probability)\n",
    "    MOE = z_score * (sd / sqrt(sample_size))\n",
    "\n",
    "    lower_bound = round(sample_mean - MOE, 2)\n",
    "    upper_bound = round(sample_mean + MOE, 2)\n",
    "    return (lower_bound, upper_bound)\n",
    "\n",
    "# Calculate the Houston Rockets salary confidence interval\n",
    "salary_list = [38178000, 37800000, 14057730, 11301219, 8349039, 3540000,\n",
    "               2564753, 2564753, 2174318, 2028594, 1845301, 903111,\n",
    "               8111447, 695526, 568422]\n",
    "\n",
    "get_z_confidence_interval(\n",
    "    data=salary_list,\n",
    "    confidence=95\n",
    ")"
   ]
  },
  {
   "cell_type": "markdown",
   "metadata": {},
   "source": [
    "#### Confidence Interval - `T-Table`"
   ]
  },
  {
   "cell_type": "code",
   "execution_count": 347,
   "metadata": {},
   "outputs": [],
   "source": [
    "with open(\"./data/t-table-copy-paste.txt\") as f:\n",
    "    t_table = {}\n",
    "    for line in f:\n",
    "        unnecessary_lines = ['one-tail', 'two-tails', 'df', 'z', '0%']\n",
    "        if line.split()[0] in unnecessary_lines:\n",
    "            # Removing unnecessary lines\n",
    "            del line\n",
    "        elif line.split()[0] == 'cum.':\n",
    "            # Getting only the values in cum. prob\n",
    "            cum_prob = line.split()[3:]\n",
    "            cum_prob_mod = [float(i) for i in cum_prob if i != 't'] \n",
    "            t_table[\"cum_prob\"] = [float(i) for i in cum_prob if i != 't'] \n",
    "        else:\n",
    "            df = int(line.split()[0])\n",
    "            values = [float(i) for i in line.split()[1:]]\n",
    "            t_table[df] = values\n",
    "        \n"
   ]
  },
  {
   "cell_type": "code",
   "execution_count": 348,
   "metadata": {},
   "outputs": [
    {
     "name": "stdout",
     "output_type": "stream",
     "text": [
      "cum_prob [0.5, 0.75, 0.8, 0.85, 0.9, 0.95, 0.975, 0.99, 0.995, 0.999, 0.9995]\n",
      "1 [0.0, 1.0, 1.376, 1.963, 3.078, 6.314, 12.71, 31.82, 63.66, 318.31, 636.62]\n",
      "2 [0.0, 0.816, 1.061, 1.386, 1.886, 2.92, 4.303, 6.965, 9.925, 22.327, 31.599]\n",
      "3 [0.0, 0.765, 0.978, 1.25, 1.638, 2.353, 3.182, 4.541, 5.841, 10.215, 12.924]\n",
      "4 [0.0, 0.741, 0.941, 1.19, 1.533, 2.132, 2.776, 3.747, 4.604, 7.173, 8.61]\n",
      "5 [0.0, 0.727, 0.92, 1.156, 1.476, 2.015, 2.571, 3.365, 4.032, 5.893, 6.869]\n",
      "6 [0.0, 0.718, 0.906, 1.134, 1.44, 1.943, 2.447, 3.143, 3.707, 5.208, 5.959]\n",
      "7 [0.0, 0.711, 0.896, 1.119, 1.415, 1.895, 2.365, 2.998, 3.499, 4.785, 5.408]\n",
      "8 [0.0, 0.706, 0.889, 1.108, 1.397, 1.86, 2.306, 2.896, 3.355, 4.501, 5.041]\n",
      "9 [0.0, 0.703, 0.883, 1.1, 1.383, 1.833, 2.262, 2.821, 3.25, 4.297, 4.781]\n",
      "10 [0.0, 0.7, 0.879, 1.093, 1.372, 1.812, 2.228, 2.764, 3.169, 4.144, 4.587]\n",
      "11 [0.0, 0.697, 0.876, 1.088, 1.363, 1.796, 2.201, 2.718, 3.106, 4.025, 4.437]\n",
      "12 [0.0, 0.695, 0.873, 1.083, 1.356, 1.782, 2.179, 2.681, 3.055, 3.93, 4.318]\n",
      "13 [0.0, 0.694, 0.87, 1.079, 1.35, 1.771, 2.16, 2.65, 3.012, 3.852, 4.221]\n",
      "14 [0.0, 0.692, 0.868, 1.076, 1.345, 1.761, 2.145, 2.624, 2.977, 3.787, 4.14]\n",
      "15 [0.0, 0.691, 0.866, 1.074, 1.341, 1.753, 2.131, 2.602, 2.947, 3.733, 4.073]\n",
      "16 [0.0, 0.69, 0.865, 1.071, 1.337, 1.746, 2.12, 2.583, 2.921, 3.686, 4.015]\n",
      "17 [0.0, 0.689, 0.863, 1.069, 1.333, 1.74, 2.11, 2.567, 2.898, 3.646, 3.965]\n",
      "18 [0.0, 0.688, 0.862, 1.067, 1.33, 1.734, 2.101, 2.552, 2.878, 3.61, 3.922]\n",
      "19 [0.0, 0.688, 0.861, 1.066, 1.328, 1.729, 2.093, 2.539, 2.861, 3.579, 3.883]\n",
      "20 [0.0, 0.687, 0.86, 1.064, 1.325, 1.725, 2.086, 2.528, 2.845, 3.552, 3.85]\n",
      "21 [0.0, 0.686, 0.859, 1.063, 1.323, 1.721, 2.08, 2.518, 2.831, 3.527, 3.819]\n",
      "22 [0.0, 0.686, 0.858, 1.061, 1.321, 1.717, 2.074, 2.508, 2.819, 3.505, 3.792]\n",
      "23 [0.0, 0.685, 0.858, 1.06, 1.319, 1.714, 2.069, 2.5, 2.807, 3.485, 3.768]\n",
      "24 [0.0, 0.685, 0.857, 1.059, 1.318, 1.711, 2.064, 2.492, 2.797, 3.467, 3.745]\n",
      "25 [0.0, 0.684, 0.856, 1.058, 1.316, 1.708, 2.06, 2.485, 2.787, 3.45, 3.725]\n",
      "26 [0.0, 0.684, 0.856, 1.058, 1.315, 1.706, 2.056, 2.479, 2.779, 3.435, 3.707]\n",
      "27 [0.0, 0.684, 0.855, 1.057, 1.314, 1.703, 2.052, 2.473, 2.771, 3.421, 3.69]\n",
      "28 [0.0, 0.683, 0.855, 1.056, 1.313, 1.701, 2.048, 2.467, 2.763, 3.408, 3.674]\n",
      "29 [0.0, 0.683, 0.854, 1.055, 1.311, 1.699, 2.045, 2.462, 2.756, 3.396, 3.659]\n",
      "30 [0.0, 0.683, 0.854, 1.055, 1.31, 1.697, 2.042, 2.457, 2.75, 3.385, 3.646]\n",
      "40 [0.0, 0.681, 0.851, 1.05, 1.303, 1.684, 2.021, 2.423, 2.704, 3.307, 3.551]\n",
      "60 [0.0, 0.679, 0.848, 1.045, 1.296, 1.671, 2.0, 2.39, 2.66, 3.232, 3.46]\n",
      "80 [0.0, 0.678, 0.846, 1.043, 1.292, 1.664, 1.99, 2.374, 2.639, 3.195, 3.416]\n",
      "100 [0.0, 0.677, 0.845, 1.042, 1.29, 1.66, 1.984, 2.364, 2.626, 3.174, 3.39]\n",
      "1000 [0.0, 0.675, 0.842, 1.037, 1.282, 1.646, 1.962, 2.33, 2.581, 3.098, 3.3]\n"
     ]
    }
   ],
   "source": [
    "for k, v in t_table.items():\n",
    "    print(k, v)"
   ]
  },
  {
   "cell_type": "code",
   "execution_count": 349,
   "metadata": {},
   "outputs": [
    {
     "data": {
      "text/plain": [
       "1.984"
      ]
     },
     "execution_count": 349,
     "metadata": {},
     "output_type": "execute_result"
    }
   ],
   "source": [
    "def get_t_score(t_table, cum_prob, sample_size):\n",
    "    # Getting indices of cum_prob in T-Table\n",
    "    cum_prob_idx = {}  \n",
    "    for i, n in enumerate(t_table[\"cum_prob\"]):\n",
    "        cum_prob_idx[n] = i \n",
    "    \n",
    "    target_col = cum_prob_idx[cum_prob]\n",
    "    df = sample_size - 1\n",
    "\n",
    "    return t_table[df][target_col]\n",
    "\n",
    "get_t_score(\n",
    "    t_table=t_table,\n",
    "    cum_prob=0.975,\n",
    "    sample_size=101\n",
    ")"
   ]
  },
  {
   "cell_type": "code",
   "execution_count": 350,
   "metadata": {},
   "outputs": [
    {
     "data": {
      "text/plain": [
       "(59069.51, 60930.49)"
      ]
     },
     "execution_count": 350,
     "metadata": {},
     "output_type": "execute_result"
    }
   ],
   "source": [
    "def get_t_confidence_interval(data, confidence=95):\n",
    "    if confidence not in [90, 95, 99]:\n",
    "        raise ValueError(\"Confidence level must be one of 90, 95 or 99\")\n",
    "\n",
    "    sample_mean = custom_mean(data)\n",
    "    sd = custom_stdev(data) # sample stddev\n",
    "    sample_size = len(data)\n",
    "\n",
    "    alpha = 1 - (confidence / 100)\n",
    "    critical_probability = 1 - (alpha / 2)\n",
    "    t_score = get_t_score(t_table, critical_probability, sample_size)\n",
    "    MOE = t_score * (sd / sqrt(sample_size))\n",
    "\n",
    "    lower_bound = round(sample_mean - MOE, 2)\n",
    "    upper_bound = round(sample_mean + MOE, 2)\n",
    "    return (lower_bound, upper_bound)\n",
    "\n",
    "\n",
    "# Problem Statement:\n",
    "# A manufacturer is promising that the break tires for \n",
    "# cars are gonna last for 65k km with 95% confidence interval\n",
    "break_pad_kms = [\n",
    "    58500, 58700, 62800, 57220, 62750, \n",
    "    59370, 57720, 60920, 61910, 59260, \n",
    "    63550, 60520, 58710, 57340, 60660, \n",
    "    57750, 60430, 60050, 62970, 58870\n",
    "]\n",
    "\n",
    "get_t_confidence_interval(\n",
    "    data=break_pad_kms,\n",
    "    confidence=95\n",
    ")\n",
    "# CI = (59069.51, 60930.49). \n",
    "# We got [59k km, 60k km]. So he was wrong when he\n",
    "# said that the life span of the brake pads is 65k km"
   ]
  },
  {
   "cell_type": "markdown",
   "metadata": {},
   "source": [
    "- The 95% confidence interval for the mean lifespan of the brake pads, based on the provided sample data, is approximately (59069.50, 60930.50) kilometers. \n",
    "\n",
    "- This means we can be 95% confident that the true mean lifespan of the brake pads falls within this range."
   ]
  },
  {
   "cell_type": "code",
   "execution_count": 351,
   "metadata": {},
   "outputs": [
    {
     "data": {
      "text/plain": [
       "(59128.64, 60871.36)"
      ]
     },
     "execution_count": 351,
     "metadata": {},
     "output_type": "execute_result"
    }
   ],
   "source": [
    "get_z_confidence_interval(\n",
    "    data=break_pad_kms,\n",
    "    confidence=95\n",
    ")"
   ]
  }
 ],
 "metadata": {
  "kernelspec": {
   "display_name": "Python 3",
   "language": "python",
   "name": "python3"
  },
  "language_info": {
   "codemirror_mode": {
    "name": "ipython",
    "version": 3
   },
   "file_extension": ".py",
   "mimetype": "text/x-python",
   "name": "python",
   "nbconvert_exporter": "python",
   "pygments_lexer": "ipython3",
   "version": "3.12.3"
  }
 },
 "nbformat": 4,
 "nbformat_minor": 2
}
