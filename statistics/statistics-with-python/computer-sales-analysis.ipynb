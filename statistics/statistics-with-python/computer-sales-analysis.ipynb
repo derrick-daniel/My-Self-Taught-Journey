{
 "cells": [
  {
   "cell_type": "markdown",
   "metadata": {},
   "source": [
    "### Imports"
   ]
  },
  {
   "cell_type": "code",
   "execution_count": 441,
   "metadata": {},
   "outputs": [],
   "source": [
    "from csv         import reader\n",
    "from math        import sqrt, floor\n",
    "from collections import Counter\n",
    "from statistics  import fmean, stdev, correlation"
   ]
  },
  {
   "cell_type": "markdown",
   "metadata": {},
   "source": [
    "### Data preparation"
   ]
  },
  {
   "cell_type": "code",
   "execution_count": 442,
   "metadata": {},
   "outputs": [
    {
     "name": "stdout",
     "output_type": "stream",
     "text": [
      "First 5 rows:\n",
      "['Sale ID', 'Company', 'Contact', 'Contact Sex', 'Contact Age', 'Contact City', 'Contact State', 'Product Company', 'Product ID', 'Product Type', 'Sale Price', 'Our Cost', 'Shipping Cost', 'Profit', 'Lead Source', 'Sale Month', 'Sale Year']\n",
      "['1', 'PNT Designs', 'Paul Thomas', 'M', '43', 'Carnegie', 'OH', 'HP', 'M01-F0024', 'Desktop', '479.99', '315.50', '21.10', '143.39', 'Website', 'January', '2018']\n",
      "['2', 'Ace Manufacturing', 'Margo Simms', 'F', '37', 'Larimer', 'WV', 'HP', 'GT13-0024', 'Desktop', '1249.99', '998.00', '21.10', '230.89', 'Flyer 4', 'January', '2018']\n",
      "['3', \"Sammie's\", 'Sam Stine', 'M', '26', 'Pittsburgh', 'PA', 'Dell', 'I3670', 'Desktop', '649.99', '510.25', '21.10', '118.64', 'Website', 'February', '2018']\n",
      "['4', 'One Moe Time', 'Moe Eggert', 'M', '35', 'St. Clair', 'PA', 'Dell', 'I3593', 'Laptop', '399.99', '310.50', '17.40', '72.09', 'Website', 'March', '2018']\n",
      "\n",
      "Rows: 40, Columns: 17\n"
     ]
    }
   ],
   "source": [
    "with open(\"./data/computer-sales.csv\", newline=\"\") as csvfile:\n",
    "    spamreader = reader(csvfile, delimiter=\",\", quotechar=\"|\")\n",
    "    \n",
    "    # Converting '_csv.reader' to 'list'\n",
    "    raw_sales_data = list(spamreader)\n",
    "\n",
    "    print(\"First 5 rows:\")\n",
    "    for row in raw_sales_data[:5]:\n",
    "        print(row)\n",
    "\n",
    "\n",
    "col_len = len(raw_sales_data[0])\n",
    "row_len = len(raw_sales_data)\n",
    "print(f\"\\nRows: {row_len}, Columns: {col_len}\")\n"
   ]
  },
  {
   "cell_type": "code",
   "execution_count": 443,
   "metadata": {},
   "outputs": [],
   "source": [
    "# Getting the header\n",
    "sales_data = {i: [] for i in raw_sales_data[0]}"
   ]
  },
  {
   "cell_type": "code",
   "execution_count": 444,
   "metadata": {},
   "outputs": [
    {
     "name": "stdout",
     "output_type": "stream",
     "text": [
      "Getting index-1: Company\n"
     ]
    }
   ],
   "source": [
    "# Accessing nth key in the dictionary\n",
    "def get_nth_key(dictionary, n=0):\n",
    "    if n < 0: # negative indexing\n",
    "        n += len(dictionary)\n",
    "    for i, key in enumerate(dictionary):\n",
    "        if i == n:\n",
    "            return key\n",
    "    raise IndexError(\"Dictionary index out of range\")\n",
    "\n",
    "idx = 1\n",
    "print(f\"Getting index-{idx}: {get_nth_key(sales_data, idx)}\")"
   ]
  },
  {
   "cell_type": "code",
   "execution_count": 445,
   "metadata": {},
   "outputs": [],
   "source": [
    "# Making sales_data_list to a dictionary\n",
    "for col in range(col_len):\n",
    "    for row in range(1, row_len):\n",
    "        val = raw_sales_data[row][col]\n",
    "        sales_data[get_nth_key(sales_data, col)].append(val)"
   ]
  },
  {
   "cell_type": "code",
   "execution_count": 446,
   "metadata": {},
   "outputs": [
    {
     "name": "stdout",
     "output_type": "stream",
     "text": [
      "['PNT Designs', 'Ace Manufacturing', \"Sammie's\", 'One Moe Time', 'Get Going Gym', 'ANX Trucking', 'Samms Grooming', 'Roberts Produce', 'Klondike Dairy', 'Jones Manufacturing', 'James Cycles', 'Weight Stalkers', 'Case Solutions', \"Doug's House\", 'Helms Manufacturing', 'Collins Advertising', 'Owens & Sons', 'Samms Grooming', 'Roberts Produce', 'ANX Trucking', 'Case Solutions', \"Doug's House\", 'PNT Designs', 'Ace Manufacturing', 'Samms Grooming', 'Roberts Produce', 'Klondike Dairy', 'One Moe Time', 'Get Going Gym', 'Jones Manufacturing', 'James Cycles', 'Weight Stalkers', 'Collins Advertising', 'Owens & Sons', 'Samms Grooming', 'ANX Trucking', 'Case Solutions', \"Doug's House\", 'One Moe Time']\n"
     ]
    }
   ],
   "source": [
    "# Accessing nth key's value in the dictionary\n",
    "def get_nth_value(dictionary, idx):\n",
    "    return dictionary[get_nth_key(dictionary, idx)]\n",
    "\n",
    "idx = 1\n",
    "print(get_nth_value(sales_data, idx))\n",
    "\n",
    "# NOTE: Alternative\n",
    "# sales_data[\"Company\"]"
   ]
  },
  {
   "cell_type": "code",
   "execution_count": 447,
   "metadata": {},
   "outputs": [
    {
     "name": "stdout",
     "output_type": "stream",
     "text": [
      "Before:\n",
      "Sale ID: <class 'str'>\n",
      "Contact Age: <class 'str'>\n",
      "Sale Year: <class 'str'>\n",
      "Sale Price: <class 'str'>\n",
      "Our Cost: <class 'str'>\n",
      "Shipping Cost: <class 'str'>\n",
      "Profit: <class 'str'>\n",
      "\n",
      "After:\n",
      "Sale ID: <class 'int'>\n",
      "Contact Age: <class 'int'>\n",
      "Sale Year: <class 'int'>\n",
      "Sale Price: <class 'float'>\n",
      "Our Cost: <class 'float'>\n",
      "Shipping Cost: <class 'float'>\n",
      "Profit: <class 'float'>\n"
     ]
    }
   ],
   "source": [
    "# Converting columns to appropriate datatypes\n",
    "print(\"Before:\")\n",
    "## -> int\n",
    "print(f\"Sale ID:\", type(sales_data[\"Sale ID\"][0])) \n",
    "print(f\"Contact Age:\", type(sales_data[\"Contact Age\"][0])) \n",
    "print(f\"Sale Year:\", type(sales_data[\"Sale Year\"][0])) \n",
    "## -> float\n",
    "print(f\"Sale Price:\", type(sales_data[\"Sale Price\"][0])) \n",
    "print(f\"Our Cost:\", type(sales_data[\"Our Cost\"][0]))\n",
    "print(f\"Shipping Cost:\", type(sales_data[\"Shipping Cost\"][0])) \n",
    "print(f\"Profit:\", type(sales_data[\"Profit\"][0])) \n",
    "\n",
    "dtype_columns = {\n",
    "    \"int\": [\"Sale ID\", \"Contact Age\", \"Sale Year\"],\n",
    "    \"float\": [\"Sale Price\", \"Our Cost\", \"Shipping Cost\", \"Profit\"]\n",
    "}\n",
    "\n",
    "for dtype in dtype_columns:\n",
    "    for col in dtype_columns[dtype]:\n",
    "        if dtype == \"int\":\n",
    "            sales_data[col] = [int(i) for i in sales_data[col]]\n",
    "        elif dtype == \"float\":\n",
    "            sales_data[col] = [float(i) for i in sales_data[col]]\n",
    "\n",
    "print(\"\\nAfter:\")\n",
    "## -> int\n",
    "print(f\"Sale ID:\", type(sales_data[\"Sale ID\"][0])) \n",
    "print(f\"Contact Age:\", type(sales_data[\"Contact Age\"][0])) \n",
    "print(f\"Sale Year:\", type(sales_data[\"Sale Year\"][0])) \n",
    "## -> float\n",
    "print(f\"Sale Price:\", type(sales_data[\"Sale Price\"][0])) \n",
    "print(f\"Our Cost:\", type(sales_data[\"Our Cost\"][0]))\n",
    "print(f\"Shipping Cost:\", type(sales_data[\"Shipping Cost\"][0])) \n",
    "print(f\"Profit:\", type(sales_data[\"Profit\"][0]))      "
   ]
  },
  {
   "cell_type": "markdown",
   "metadata": {},
   "source": [
    "### Accessing the data"
   ]
  },
  {
   "cell_type": "markdown",
   "metadata": {},
   "source": [
    "#### To acess the rows and columns"
   ]
  },
  {
   "cell_type": "code",
   "execution_count": 448,
   "metadata": {},
   "outputs": [
    {
     "name": "stdout",
     "output_type": "stream",
     "text": [
      "Sale ID: [1, 2, 3, 4, 5, 6, 7, 8, 9, 10, 11, 12, 13, 14, 15, 16, 17, 18, 19, 20, 21, 22, 23, 24, 25, 26, 27, 28, 29, 30, 31, 32, 33, 34, 35, 36, 37, 38, 39]\n",
      "Company: ['PNT Designs', 'Ace Manufacturing', \"Sammie's\", 'One Moe Time', 'Get Going Gym', 'ANX Trucking', 'Samms Grooming', 'Roberts Produce', 'Klondike Dairy', 'Jones Manufacturing', 'James Cycles', 'Weight Stalkers', 'Case Solutions', \"Doug's House\", 'Helms Manufacturing', 'Collins Advertising', 'Owens & Sons', 'Samms Grooming', 'Roberts Produce', 'ANX Trucking', 'Case Solutions', \"Doug's House\", 'PNT Designs', 'Ace Manufacturing', 'Samms Grooming', 'Roberts Produce', 'Klondike Dairy', 'One Moe Time', 'Get Going Gym', 'Jones Manufacturing', 'James Cycles', 'Weight Stalkers', 'Collins Advertising', 'Owens & Sons', 'Samms Grooming', 'ANX Trucking', 'Case Solutions', \"Doug's House\", 'One Moe Time']\n",
      "Contact: ['Paul Thomas', 'Margo Simms', 'Sam Stine', 'Moe Eggert', 'Jessica Elk', 'Sally Struthers', 'Michelle Samms', 'Mick Roberts', 'Ed Klondike', 'Phil Jones', 'Rick James', 'Sue Etna', 'Jason Case', 'Doug Johnson', 'Andy Sands', 'Kim Collins', 'Edna Sanders', 'Michelle Samms', 'Mick Roberts', 'Sally Struthers', 'Jason Case', 'Doug Johnson', 'Paul Thomas', 'Margo Simms', 'Michelle Samms', 'Mick Roberts', 'Ed Klondike', 'Moe Eggert', 'Jessica Elk', 'Phil Jones', 'Rick James', 'Sue Etna', 'Kim Collins', 'Edna Sanders', 'Michelle Samms', 'Sally Struthers', 'Jason Case', 'Doug Johnson', 'Moe Eggert']\n",
      "Contact Sex: ['M', 'F', 'M', 'M', 'F', 'F', 'F', 'M', 'M', 'M', 'M', 'F', 'M', 'M', 'M', 'F', 'F', 'F', 'M', 'F', 'M', 'M', 'M', 'F', 'F', 'M', 'M', 'M', 'F', 'M', 'M', 'F', 'F', 'F', 'F', 'F', 'M', 'M', 'M']\n",
      "Contact Age: [43, 37, 26, 35, 55, 45, 46, 23, 52, 56, 49, 54, 57, 51, 56, 49, 46, 46, 23, 45, 57, 51, 43, 37, 46, 23, 52, 35, 55, 56, 49, 54, 49, 46, 46, 45, 57, 51, 35]\n",
      "Contact City: ['Carnegie', 'Larimer', 'Pittsburgh', 'St. Clair', 'Pittsburgh', 'St. Clair', 'Carnegie', 'Lawrenceville', 'Carnegie', 'Larimer', 'Pittsburgh', 'Banksville', 'Pittsburgh', 'Pittsburgh', 'Lawrenceville', 'Pittsburgh', 'Lawrenceville', 'Banksville', 'Pittsburgh', 'Banksville', 'Pittsburgh', 'Pittsburgh', 'Carnegie', 'Larimer', 'Banksville', 'Pittsburgh', 'Carnegie', 'St. Clair', 'Pittsburgh', 'Larimer', 'Pittsburgh', 'Banksville', 'Pittsburgh', 'Lawrenceville', 'Banksville', 'Banksville', 'Pittsburgh', 'Pittsburgh', 'St. Clair']\n",
      "Contact State: ['OH', 'WV', 'PA', 'PA', 'PA', 'PA', 'OH', 'OH', 'OH', 'WV', 'PA', 'OH', 'PA', 'PA', 'OH', 'PA', 'OH', 'NY', 'PA', 'NY', 'PA', 'PA', 'OH', 'WV', 'NY', 'PA', 'OH', 'PA', 'PA', 'WV', 'PA', 'OH', 'PA', 'OH', 'NY', 'NY', 'PA', 'PA', 'PA']\n",
      "Product Company: ['HP', 'HP', 'Dell', 'Dell', 'HP', 'HP', 'ASUS', 'Apple', 'Lenovo', 'HP', 'ASUS', 'HP', 'Lenovo', 'Dell', 'Apple', 'Dell', 'HP', 'Apple', 'Dell', 'Lenovo', 'HP', 'ASUS', 'Lenovo', 'ASUS', 'Dell', 'ASUS', 'ASUS', 'HP', 'ASUS', 'HP', 'ASUS', 'HP', 'Dell', 'HP', 'Apple', 'Lenovo', 'HP', 'ASUS', 'Dell']\n",
      "Product ID: ['M01-F0024', 'GT13-0024', 'I3670', 'I3593', '15M-ED', 'GT13-0024', 'GA401IV', 'MY2J2LL', '81TC00', 'M01-F0024', 'GA401IV', 'GT13-0024', '81TC00', 'I3670', 'MY2J2LL', 'I3593', '15M-ED', 'MY2J2LL', 'I3593', '81TC00', 'M01-F0024', 'GA401IV', '81TC00', 'Q526FA', 'I3670', 'Q526FA', 'Q526FA', '15M-ED', 'GA401IV', 'M01-F0024', 'GA401IV', 'GT13-0024', 'I3593', '15M-ED', 'MY2J2LL', '81TC00', 'M01-F0024', 'GA401IV', 'I3593']\n",
      "Product Type: ['Desktop', 'Desktop', 'Desktop', 'Laptop', 'Laptop', 'Desktop', 'Laptop', 'Tablet', 'Laptop', 'Desktop', 'Laptop', 'Desktop', 'Laptop', 'Desktop', 'Tablet', 'Laptop', 'Laptop', 'Tablet', 'Laptop', 'Laptop', 'Desktop', 'Laptop', 'Laptop', 'Laptop', 'Desktop', 'Laptop', 'Laptop', 'Laptop', 'Laptop', 'Desktop', 'Laptop', 'Desktop', 'Laptop', 'Laptop', 'Tablet', 'Laptop', 'Desktop', 'Laptop', 'Laptop']\n",
      "Sale Price: [479.99, 1249.99, 649.99, 399.99, 699.99, 1249.99, 1349.99, 999.99, 649.99, 479.99, 1349.99, 1249.99, 649.99, 649.99, 999.99, 399.99, 699.99, 999.99, 399.99, 649.99, 479.99, 1349.99, 649.99, 1049.99, 649.99, 1049.99, 1049.99, 699.99, 1349.99, 479.99, 1349.99, 1249.99, 399.99, 699.99, 999.99, 649.99, 479.99, 1349.99, 399.99]\n",
      "Our Cost: [315.5, 998.0, 510.25, 310.5, 584.5, 998.0, 1152.25, 845.0, 510.25, 315.5, 1152.25, 998.0, 510.25, 510.25, 845.0, 310.5, 584.5, 845.0, 310.5, 510.25, 315.5, 1152.25, 510.25, 889.5, 510.25, 889.5, 889.5, 584.5, 1152.25, 315.5, 1152.25, 998.0, 310.5, 584.5, 845.0, 510.25, 315.5, 1152.25, 310.5]\n",
      "Shipping Cost: [21.1, 21.1, 21.1, 17.4, 17.4, 21.1, 17.4, 8.3, 17.4, 21.1, 17.4, 21.1, 17.4, 21.1, 8.3, 17.4, 17.4, 8.3, 17.4, 17.4, 21.1, 17.4, 17.4, 17.4, 21.1, 17.4, 17.4, 17.4, 17.4, 21.1, 17.4, 21.1, 17.4, 17.4, 8.3, 17.4, 21.1, 17.4, 17.4]\n",
      "Profit: [143.39, 230.89, 118.64, 72.09, 98.09, 230.89, 180.34, 146.69, 122.34, 143.39, 180.34, 230.89, 122.34, 118.64, 146.69, 72.09, 98.09, 146.69, 72.09, 122.34, 143.39, 180.34, 122.34, 143.09, 118.64, 143.09, 143.09, 98.09, 180.34, 143.39, 180.34, 230.89, 72.09, 98.09, 146.69, 122.34, 143.39, 180.34, 72.09]\n",
      "Lead Source: ['Website', 'Flyer 4', 'Website', 'Website', 'Flyer 4', 'Flyer 2', 'Email', 'Website', 'Email', 'Flyer 2', 'Flyer 3', 'Flyer 2', 'Email', 'Website', 'Flyer 1', 'Flyer 2', 'Email', 'Website', 'Flyer 4', 'Website', 'Flyer 4', 'Website', 'Website', 'Flyer 4', 'Flyer 2', 'Email', 'Website', 'Email', 'Flyer 2', 'Flyer 2', 'Flyer 1', 'Flyer 2', 'Flyer 2', 'Email', 'Website', 'Website', 'Flyer 4', 'Website', 'Website']\n",
      "Sale Month: ['January', 'January', 'February', 'March', 'March', 'April', 'May', 'July', 'July', 'August', 'November', 'November', 'November', 'December', 'December', 'January', 'February', 'March', 'March', 'April', 'May', 'August', 'August', 'November', 'November', 'November', 'December', 'December', 'December', 'January', 'January', 'February', 'March', 'March', 'April', 'April', 'April', 'May', 'May']\n",
      "Sale Year: [2018, 2018, 2018, 2018, 2018, 2018, 2018, 2018, 2018, 2018, 2018, 2018, 2018, 2018, 2018, 2019, 2019, 2019, 2019, 2019, 2019, 2019, 2019, 2019, 2019, 2019, 2019, 2019, 2019, 2020, 2020, 2020, 2020, 2020, 2020, 2020, 2020, 2020, 2020]\n"
     ]
    }
   ],
   "source": [
    "for k, v in sales_data.items():\n",
    "    print(f\"{k}: {v}\")"
   ]
  },
  {
   "cell_type": "markdown",
   "metadata": {},
   "source": [
    "#### To access the data row wise"
   ]
  },
  {
   "cell_type": "code",
   "execution_count": 449,
   "metadata": {},
   "outputs": [
    {
     "data": {
      "text/plain": [
       "[1,\n",
       " 'PNT Designs',\n",
       " 'Paul Thomas',\n",
       " 'M',\n",
       " 43,\n",
       " 'Carnegie',\n",
       " 'OH',\n",
       " 'HP',\n",
       " 'M01-F0024',\n",
       " 'Desktop',\n",
       " 479.99,\n",
       " 315.5,\n",
       " 21.1,\n",
       " 143.39,\n",
       " 'Website',\n",
       " 'January',\n",
       " 2018]"
      ]
     },
     "execution_count": 449,
     "metadata": {},
     "output_type": "execute_result"
    }
   ],
   "source": [
    "def get_nth_row(dictionary, idx):\n",
    "    return [v[idx-1] for v in dictionary.values()]\n",
    "\n",
    "# Getting 1st row or 0th index row\n",
    "get_nth_row(sales_data, 1) "
   ]
  },
  {
   "cell_type": "markdown",
   "metadata": {},
   "source": [
    "#### To access the data column wise"
   ]
  },
  {
   "cell_type": "code",
   "execution_count": 450,
   "metadata": {},
   "outputs": [
    {
     "data": {
      "text/plain": [
       "[1,\n",
       " 2,\n",
       " 3,\n",
       " 4,\n",
       " 5,\n",
       " 6,\n",
       " 7,\n",
       " 8,\n",
       " 9,\n",
       " 10,\n",
       " 11,\n",
       " 12,\n",
       " 13,\n",
       " 14,\n",
       " 15,\n",
       " 16,\n",
       " 17,\n",
       " 18,\n",
       " 19,\n",
       " 20,\n",
       " 21,\n",
       " 22,\n",
       " 23,\n",
       " 24,\n",
       " 25,\n",
       " 26,\n",
       " 27,\n",
       " 28,\n",
       " 29,\n",
       " 30,\n",
       " 31,\n",
       " 32,\n",
       " 33,\n",
       " 34,\n",
       " 35,\n",
       " 36,\n",
       " 37,\n",
       " 38,\n",
       " 39]"
      ]
     },
     "execution_count": 450,
     "metadata": {},
     "output_type": "execute_result"
    }
   ],
   "source": [
    "sales_data[\"Sale ID\"]"
   ]
  },
  {
   "cell_type": "markdown",
   "metadata": {},
   "source": [
    "#### Acessing `Profit` column based on ANY column"
   ]
  },
  {
   "cell_type": "code",
   "execution_count": 451,
   "metadata": {},
   "outputs": [
    {
     "name": "stdout",
     "output_type": "stream",
     "text": [
      "Sex Profit List: {'M': [143.39, 118.64, 72.09, 146.69, 122.34, 143.39, 180.34, 122.34, 118.64, 146.69, 72.09, 143.39, 180.34, 122.34, 143.09, 143.09, 98.09, 143.39, 180.34, 143.39, 180.34, 72.09], 'F': [230.89, 98.09, 230.89, 180.34, 230.89, 72.09, 98.09, 146.69, 122.34, 143.09, 118.64, 180.34, 230.89, 72.09, 98.09, 146.69, 122.34]}\n"
     ]
    }
   ],
   "source": [
    "def get_key_profit_dict(dictionary):\n",
    "    freq_dict = Counter(dictionary)\n",
    "    profict_dict =  {i: [] for i in freq_dict.keys()}\n",
    "\n",
    "    for i in profict_dict:\n",
    "        for j in range(row_len-1):\n",
    "            if dictionary[j] == i:\n",
    "                profict_dict[i].append(sales_data[\"Profit\"][j])\n",
    "\n",
    "    return profict_dict\n",
    "\n",
    "sex_profit_list = get_key_profit_dict(sales_data[\"Contact Sex\"])\n",
    "print(f\"Sex Profit List: {sex_profit_list}\")"
   ]
  },
  {
   "cell_type": "markdown",
   "metadata": {},
   "source": [
    "### Analysis"
   ]
  },
  {
   "cell_type": "markdown",
   "metadata": {},
   "source": [
    "### `What is the mean profit for ANY columns"
   ]
  },
  {
   "cell_type": "code",
   "execution_count": 452,
   "metadata": {},
   "outputs": [],
   "source": [
    "def get_profit_mean_category_dict(dictionary, ordered=False):\n",
    "    category_profit_list = get_key_profit_dict(dictionary)\n",
    "    category_profit_mean =  {i: round(fmean(category_profit_list[i]), 2)  for i in category_profit_list.keys()}\n",
    "    if ordered:\n",
    "        return dict(sorted(category_profit_mean.items(), key=lambda i: i[1], reverse=True))\n",
    "    else:\n",
    "        return category_profit_mean"
   ]
  },
  {
   "cell_type": "code",
   "execution_count": 453,
   "metadata": {},
   "outputs": [
    {
     "name": "stdout",
     "output_type": "stream",
     "text": [
      "CONTACT SEX:\n",
      " {'F': 148.38, 'M': 133.48}\n",
      "CONTACT STATE:\n",
      " {'WV': 165.19, 'OH': 151.17, 'NY': 131.34, 'PA': 130.46}\n",
      "PRODUCT COMPANY:\n",
      " {'ASUS': 167.92, 'HP': 156.37, 'Apple': 146.69, 'Lenovo': 122.34, 'Dell': 89.55}\n",
      "PRODUCT TYPE:\n",
      " {'Desktop': 166.37, 'Tablet': 146.69, 'Laptop': 125.04}\n",
      "LEAD SOURCE:\n",
      " {'Flyer 3': 180.34, 'Flyer 1': 163.51, 'Flyer 2': 158.07, 'Flyer 4': 138.49, 'Website': 131.12, 'Email': 123.2}\n",
      "SALE MONTH:\n",
      " {'November': 156.4, 'January': 154.02, 'April': 153.13, 'February': 149.21, 'August': 148.69, 'May': 144.04, 'December': 137.37, 'July': 134.51, 'March': 93.19}\n",
      "SALE YEAR:\n",
      " {2018: 152.38, 2020: 138.97, 2019: 127.41}\n"
     ]
    }
   ],
   "source": [
    "target_columns = [#\"Company\",\n",
    "                  #\"Contact\",\n",
    "                  \"Contact Sex\",\n",
    "                  #\"Contact Age\",\n",
    "                  #\"Contact City\",\n",
    "                  \"Contact State\",\n",
    "                  \"Product Company\",\n",
    "                  #\"Product ID\",\n",
    "                  \"Product Type\",\n",
    "                  \"Lead Source\",\n",
    "                  \"Sale Month\",\n",
    "                  \"Sale Year\"]\n",
    "\n",
    "for col in target_columns:\n",
    "    print(f\"{col.upper()}:\\n {get_profit_mean_category_dict(sales_data[col], ordered=True)}\")"
   ]
  },
  {
   "cell_type": "code",
   "execution_count": 454,
   "metadata": {},
   "outputs": [
    {
     "name": "stdout",
     "output_type": "stream",
     "text": [
      "\n",
      "Contact Sex Data:\n",
      "\tCounter({'M': 22, 'F': 17})\n",
      "\tContact Sex Profit List: {'M': [143.39, 118.64, 72.09, 146.69, 122.34, 143.39, 180.34, 122.34, 118.64, 146.69, 72.09, 143.39, 180.34, 122.34, 143.09, 143.09, 98.09, 143.39, 180.34, 143.39, 180.34, 72.09], 'F': [230.89, 98.09, 230.89, 180.34, 230.89, 72.09, 98.09, 146.69, 122.34, 143.09, 118.64, 180.34, 230.89, 72.09, 98.09, 146.69, 122.34]}\n",
      "\tContact Sex Profit Mean: {'F': 148.38, 'M': 133.48}\n",
      "\n",
      "Contact State Data:\n",
      "\tCounter({'PA': 19, 'OH': 11, 'NY': 5, 'WV': 4})\n",
      "\tContact State Profit List: {'OH': [143.39, 180.34, 146.69, 122.34, 230.89, 146.69, 98.09, 122.34, 143.09, 230.89, 98.09], 'WV': [230.89, 143.39, 143.09, 143.39], 'PA': [118.64, 72.09, 98.09, 230.89, 180.34, 122.34, 118.64, 72.09, 72.09, 143.39, 180.34, 143.09, 98.09, 180.34, 180.34, 72.09, 143.39, 180.34, 72.09], 'NY': [146.69, 122.34, 118.64, 146.69, 122.34]}\n",
      "\tContact State Profit Mean: {'WV': 165.19, 'OH': 151.17, 'NY': 131.34, 'PA': 130.46}\n",
      "\n",
      "Product Company Data:\n",
      "\tCounter({'HP': 13, 'ASUS': 9, 'Dell': 8, 'Lenovo': 5, 'Apple': 4})\n",
      "\tProduct Company Profit List: {'HP': [143.39, 230.89, 98.09, 230.89, 143.39, 230.89, 98.09, 143.39, 98.09, 143.39, 230.89, 98.09, 143.39], 'Dell': [118.64, 72.09, 118.64, 72.09, 72.09, 118.64, 72.09, 72.09], 'ASUS': [180.34, 180.34, 180.34, 143.09, 143.09, 143.09, 180.34, 180.34, 180.34], 'Apple': [146.69, 146.69, 146.69, 146.69], 'Lenovo': [122.34, 122.34, 122.34, 122.34, 122.34]}\n",
      "\tProduct Company Profit Mean: {'ASUS': 167.92, 'HP': 156.37, 'Apple': 146.69, 'Lenovo': 122.34, 'Dell': 89.55}\n",
      "\n",
      "Product Type Data:\n",
      "\tCounter({'Laptop': 23, 'Desktop': 12, 'Tablet': 4})\n",
      "\tProduct Type Profit List: {'Desktop': [143.39, 230.89, 118.64, 230.89, 143.39, 230.89, 118.64, 143.39, 118.64, 143.39, 230.89, 143.39], 'Laptop': [72.09, 98.09, 180.34, 122.34, 180.34, 122.34, 72.09, 98.09, 72.09, 122.34, 180.34, 122.34, 143.09, 143.09, 143.09, 98.09, 180.34, 180.34, 72.09, 98.09, 122.34, 180.34, 72.09], 'Tablet': [146.69, 146.69, 146.69, 146.69]}\n",
      "\tProduct Type Profit Mean: {'Desktop': 166.37, 'Tablet': 146.69, 'Laptop': 125.04}\n",
      "\n",
      "Lead Source Data:\n",
      "\tCounter({'Website': 14, 'Flyer 2': 9, 'Email': 7, 'Flyer 4': 6, 'Flyer 1': 2, 'Flyer 3': 1})\n",
      "\tLead Source Profit List: {'Website': [143.39, 118.64, 72.09, 146.69, 118.64, 146.69, 122.34, 180.34, 122.34, 143.09, 146.69, 122.34, 180.34, 72.09], 'Flyer 4': [230.89, 98.09, 72.09, 143.39, 143.09, 143.39], 'Flyer 2': [230.89, 143.39, 230.89, 72.09, 118.64, 180.34, 143.39, 230.89, 72.09], 'Email': [180.34, 122.34, 122.34, 98.09, 143.09, 98.09, 98.09], 'Flyer 3': [180.34], 'Flyer 1': [146.69, 180.34]}\n",
      "\tLead Source Profit Mean: {'Flyer 3': 180.34, 'Flyer 1': 163.51, 'Flyer 2': 158.07, 'Flyer 4': 138.49, 'Website': 131.12, 'Email': 123.2}\n",
      "\n",
      "Sale Month Data:\n",
      "\tCounter({'March': 6, 'November': 6, 'January': 5, 'April': 5, 'December': 5, 'May': 4, 'February': 3, 'August': 3, 'July': 2})\n",
      "\tSale Month Profit List: {'January': [143.39, 230.89, 72.09, 143.39, 180.34], 'February': [118.64, 98.09, 230.89], 'March': [72.09, 98.09, 146.69, 72.09, 72.09, 98.09], 'April': [230.89, 122.34, 146.69, 122.34, 143.39], 'May': [180.34, 143.39, 180.34, 72.09], 'July': [146.69, 122.34], 'August': [143.39, 180.34, 122.34], 'November': [180.34, 230.89, 122.34, 143.09, 118.64, 143.09], 'December': [118.64, 146.69, 143.09, 98.09, 180.34]}\n",
      "\tSale Month Profit Mean: {'November': 156.4, 'January': 154.02, 'April': 153.13, 'February': 149.21, 'August': 148.69, 'May': 144.04, 'December': 137.37, 'July': 134.51, 'March': 93.19}\n",
      "\n",
      "Sale Year Data:\n",
      "\tCounter({2018: 15, 2019: 14, 2020: 10})\n",
      "\tSale Year Profit List: {2018: [143.39, 230.89, 118.64, 72.09, 98.09, 230.89, 180.34, 146.69, 122.34, 143.39, 180.34, 230.89, 122.34, 118.64, 146.69], 2019: [72.09, 98.09, 146.69, 72.09, 122.34, 143.39, 180.34, 122.34, 143.09, 118.64, 143.09, 143.09, 98.09, 180.34], 2020: [143.39, 180.34, 230.89, 72.09, 98.09, 146.69, 122.34, 143.39, 180.34, 72.09]}\n",
      "\tSale Year Profit Mean: {2018: 152.38, 2020: 138.97, 2019: 127.41}\n"
     ]
    }
   ],
   "source": [
    "for col in target_columns:\n",
    "    print(f\"\\n{col} Data:\")\n",
    "    print(f\"\\t{Counter(sales_data[col])}\")\n",
    "    print(f\"\\t{col} Profit List: {get_key_profit_dict(sales_data[col])}\")\n",
    "    print(f\"\\t{col} Profit Mean: {get_profit_mean_category_dict(sales_data[col], ordered=True)}\")"
   ]
  },
  {
   "cell_type": "markdown",
   "metadata": {},
   "source": [
    "- Assume that `higher profit mean` means `more pofitable category`\n",
    "\n",
    "- Why we're just assuming it?\n",
    "    - Because (one of such example):\n",
    "    \n",
    "        - The mean profit provides an average figure, but it doesn't reflect the volume of transactions. \n",
    "        - A category with a high average profit but very few sales may contribute less overall profit than a category with a slightly lower average profit but many more sales. \n",
    "        - For a more comprehensive view, look at both the average profit per sale and the total profit from all sales in that category."
   ]
  },
  {
   "cell_type": "markdown",
   "metadata": {},
   "source": [
    "#### Custom Statistics Functions"
   ]
  },
  {
   "cell_type": "code",
   "execution_count": 455,
   "metadata": {},
   "outputs": [
    {
     "data": {
      "text/plain": [
       "3.0"
      ]
     },
     "execution_count": 455,
     "metadata": {},
     "output_type": "execute_result"
    }
   ],
   "source": [
    "def custom_mean(data):\n",
    "    return sum(data) / len(data)\n",
    "\n",
    "custom_mean([1, 2, 3, 4, 5])"
   ]
  },
  {
   "cell_type": "code",
   "execution_count": 456,
   "metadata": {},
   "outputs": [
    {
     "data": {
      "text/plain": [
       "1.0810874155219827"
      ]
     },
     "execution_count": 456,
     "metadata": {},
     "output_type": "execute_result"
    }
   ],
   "source": [
    "def custom_stdev(data):\n",
    "    x_bar = custom_mean(data)\n",
    "    # To mitigate the error when len(data) = 1\n",
    "    try:\n",
    "        return sqrt(sum((x-x_bar)**2 for x in data) / (len(data)-1))\n",
    "    except:\n",
    "        return sqrt(sum((x-x_bar)**2 for x in data) / 1)\n",
    "\n",
    "custom_stdev([1.5, 2.5, 2.5, 2.75, 3.25, 4.75])"
   ]
  },
  {
   "cell_type": "code",
   "execution_count": 457,
   "metadata": {},
   "outputs": [
    {
     "name": "stdout",
     "output_type": "stream",
     "text": [
      "Coefficient Variation of Miles: 0.1721\n",
      "Coefficient Variation of Km: 0.1721\n",
      "Coefficient Variation (Both): 17.21%\n"
     ]
    }
   ],
   "source": [
    "def custom_coefficient_variation(data):\n",
    "    return round(custom_stdev(data) / custom_mean(data), 4)\n",
    "\n",
    "miles = [3, 4, 4.5, 3.5]\n",
    "km = [4.828, 6.437, 7.242, 5.632]\n",
    "\n",
    "cv_miles = custom_coefficient_variation(miles)\n",
    "print(f\"Coefficient Variation of Miles: {cv_miles}\")\n",
    "cv_km = custom_coefficient_variation(km)\n",
    "print(f\"Coefficient Variation of Km: {cv_km}\")\n",
    "\n",
    "if (cv_miles == cv_km):\n",
    "    print(f\"Coefficient Variation (Both): {cv_miles*100}%\")"
   ]
  },
  {
   "cell_type": "code",
   "execution_count": 458,
   "metadata": {},
   "outputs": [
    {
     "name": "stdout",
     "output_type": "stream",
     "text": [
      "Covariance: 5803.2\n",
      "Positive covariance (increases / moving together)\n"
     ]
    }
   ],
   "source": [
    "def custom_covariance(x, y):\n",
    "    x_bar = custom_mean(x)\n",
    "    y_bar = custom_mean(y)\n",
    "    cov = sum((x-x_bar)*(y-y_bar) for x, y in zip(x,y)) / (len(x) - 1)\n",
    "    return round(cov, 2)\n",
    "\n",
    "market_cap = [1532, 1488, 1343, 928, 615]\n",
    "earnings = [58, 35, 75, 41, 17]\n",
    "\n",
    "cov_MC_E = custom_covariance(market_cap, earnings)\n",
    "print(f\"Covariance: {cov_MC_E}\")\n",
    "\n",
    "if cov_MC_E > 0:\n",
    "    print(\"Positive covariance (increases / moving together)\")\n",
    "elif cov_MC_E < 0:\n",
    "    print(\"Negative covariance (decreases / moving in opposite direction)\")\n",
    "else: # cov_MC_E = 0 \n",
    "    print(\"Independent\")"
   ]
  },
  {
   "cell_type": "code",
   "execution_count": 459,
   "metadata": {},
   "outputs": [
    {
     "name": "stdout",
     "output_type": "stream",
     "text": [
      "Correlation (Pearson's): 0.6601\n",
      "Perfect positive linear relationship\n"
     ]
    }
   ],
   "source": [
    "def custom_correlation(x, y):\n",
    "    S_x = custom_stdev(x)\n",
    "    S_y = custom_stdev(y)\n",
    "    return round(custom_covariance(x,y) / (S_x*S_y), 4)\n",
    "\n",
    "r_MC_E = custom_correlation(market_cap, earnings)\n",
    "print(f\"Correlation (Pearson's): {r_MC_E}\")\n",
    "\n",
    "if round(r_MC_E) == 1:\n",
    "    print(\"Perfect positive linear relationship\")\n",
    "elif round(r_MC_E) == -1:\n",
    "    print(\"Perfect negative linear relationship\")\n",
    "elif round(r_MC_E) == 0:\n",
    "    print(\"No linear relationship\")"
   ]
  },
  {
   "cell_type": "code",
   "execution_count": 460,
   "metadata": {},
   "outputs": [
    {
     "name": "stdout",
     "output_type": "stream",
     "text": [
      "{'M': 133.48, 'F': 148.38}\n",
      "{'M': 133.48, 'F': 148.38}\n",
      "{'M': 33.22, 'F': 56.33}\n",
      "{'M': 33.22, 'F': 56.33}\n",
      "{'M': 0.25, 'F': 0.38}\n"
     ]
    }
   ],
   "source": [
    "def get_profit_stat_category_dict(dictionary, stat, custom=True):\n",
    "    category_profit_list = get_key_profit_dict(dictionary)\n",
    "    if stat.lower() == \"mean\":\n",
    "        if custom:\n",
    "            return  {i: round(custom_mean(category_profit_list[i]), 2)  for i in category_profit_list.keys()}\n",
    "        else:\n",
    "            return  {i: round(fmean(category_profit_list[i]), 2)  for i in category_profit_list.keys()}\n",
    "    elif stat.lower() == \"stdev\":\n",
    "        if custom:\n",
    "            return  {i: round(custom_stdev(category_profit_list[i]), 2)  for i in category_profit_list.keys()}\n",
    "        else:\n",
    "            return  {i: round(stdev(category_profit_list[i]), 2)  for i in category_profit_list.keys()}\n",
    "    elif stat.lower() == \"cv\": # Only custom func is available\n",
    "        return  {i: round(custom_coefficient_variation(category_profit_list[i]), 2)  for i in category_profit_list.keys()}\n",
    "\n",
    "print(get_profit_stat_category_dict(sales_data[\"Contact Sex\"], stat=\"mean\"))\n",
    "print(get_profit_stat_category_dict(sales_data[\"Contact Sex\"], stat=\"mean\", custom=False))\n",
    "print(get_profit_stat_category_dict(sales_data[\"Contact Sex\"], stat=\"stdev\"))\n",
    "print(get_profit_stat_category_dict(sales_data[\"Contact Sex\"], stat=\"stdev\", custom=False))\n",
    "print(get_profit_stat_category_dict(sales_data[\"Contact Sex\"], stat=\"cv\"))"
   ]
  },
  {
   "cell_type": "code",
   "execution_count": 461,
   "metadata": {},
   "outputs": [
    {
     "name": "stdout",
     "output_type": "stream",
     "text": [
      "\n",
      "Contact Sex Data:\n",
      "\t{'M': 22, 'F': 17}\n",
      "\tContact Sex Profit List: {'M': [143.39, 118.64, 72.09, 146.69, 122.34, 143.39, 180.34, 122.34, 118.64, 146.69, 72.09, 143.39, 180.34, 122.34, 143.09, 143.09, 98.09, 143.39, 180.34, 143.39, 180.34, 72.09], 'F': [230.89, 98.09, 230.89, 180.34, 230.89, 72.09, 98.09, 146.69, 122.34, 143.09, 118.64, 180.34, 230.89, 72.09, 98.09, 146.69, 122.34]}\n",
      "\tContact Sex Profit Mean: {'M': 133.48, 'F': 148.38}\n",
      "\tContact Sex Standard Deviation: {'M': 33.22, 'F': 56.33}\n",
      "\tContact Sex Coefficient Variation: {'M': 0.25, 'F': 0.38}\n",
      "\n",
      "Contact State Data:\n",
      "\t{'OH': 11, 'WV': 4, 'PA': 19, 'NY': 5}\n",
      "\tContact State Profit List: {'OH': [143.39, 180.34, 146.69, 122.34, 230.89, 146.69, 98.09, 122.34, 143.09, 230.89, 98.09], 'WV': [230.89, 143.39, 143.09, 143.39], 'PA': [118.64, 72.09, 98.09, 230.89, 180.34, 122.34, 118.64, 72.09, 72.09, 143.39, 180.34, 143.09, 98.09, 180.34, 180.34, 72.09, 143.39, 180.34, 72.09], 'NY': [146.69, 122.34, 118.64, 146.69, 122.34]}\n",
      "\tContact State Profit Mean: {'OH': 151.17, 'WV': 165.19, 'PA': 130.46, 'NY': 131.34}\n",
      "\tContact State Standard Deviation: {'OH': 45.85, 'WV': 43.8, 'PA': 48.59, 'NY': 14.09}\n",
      "\tContact State Coefficient Variation: {'OH': 0.3, 'WV': 0.27, 'PA': 0.37, 'NY': 0.11}\n",
      "\n",
      "Product Company Data:\n",
      "\t{'HP': 13, 'Dell': 8, 'ASUS': 9, 'Apple': 4, 'Lenovo': 5}\n",
      "\tProduct Company Profit List: {'HP': [143.39, 230.89, 98.09, 230.89, 143.39, 230.89, 98.09, 143.39, 98.09, 143.39, 230.89, 98.09, 143.39], 'Dell': [118.64, 72.09, 118.64, 72.09, 72.09, 118.64, 72.09, 72.09], 'ASUS': [180.34, 180.34, 180.34, 143.09, 143.09, 143.09, 180.34, 180.34, 180.34], 'Apple': [146.69, 146.69, 146.69, 146.69], 'Lenovo': [122.34, 122.34, 122.34, 122.34, 122.34]}\n",
      "\tProduct Company Profit Mean: {'HP': 156.37, 'Dell': 89.55, 'ASUS': 167.92, 'Apple': 146.69, 'Lenovo': 122.34}\n",
      "\tProduct Company Standard Deviation: {'HP': 55.26, 'Dell': 24.09, 'ASUS': 18.62, 'Apple': 0.0, 'Lenovo': 0.0}\n",
      "\tProduct Company Coefficient Variation: {'HP': 0.35, 'Dell': 0.27, 'ASUS': 0.11, 'Apple': 0.0, 'Lenovo': 0.0}\n",
      "\n",
      "Product Type Data:\n",
      "\t{'Desktop': 12, 'Laptop': 23, 'Tablet': 4}\n",
      "\tProduct Type Profit List: {'Desktop': [143.39, 230.89, 118.64, 230.89, 143.39, 230.89, 118.64, 143.39, 118.64, 143.39, 230.89, 143.39], 'Laptop': [72.09, 98.09, 180.34, 122.34, 180.34, 122.34, 72.09, 98.09, 72.09, 122.34, 180.34, 122.34, 143.09, 143.09, 143.09, 98.09, 180.34, 180.34, 72.09, 98.09, 122.34, 180.34, 72.09], 'Tablet': [146.69, 146.69, 146.69, 146.69]}\n",
      "\tProduct Type Profit Mean: {'Desktop': 166.37, 'Laptop': 125.04, 'Tablet': 146.69}\n",
      "\tProduct Type Standard Deviation: {'Desktop': 48.74, 'Laptop': 40.61, 'Tablet': 0.0}\n",
      "\tProduct Type Coefficient Variation: {'Desktop': 0.29, 'Laptop': 0.32, 'Tablet': 0.0}\n",
      "\n",
      "Lead Source Data:\n",
      "\t{'Website': 14, 'Flyer 4': 6, 'Flyer 2': 9, 'Email': 7, 'Flyer 3': 1, 'Flyer 1': 2}\n",
      "\tLead Source Profit List: {'Website': [143.39, 118.64, 72.09, 146.69, 118.64, 146.69, 122.34, 180.34, 122.34, 143.09, 146.69, 122.34, 180.34, 72.09], 'Flyer 4': [230.89, 98.09, 72.09, 143.39, 143.09, 143.39], 'Flyer 2': [230.89, 143.39, 230.89, 72.09, 118.64, 180.34, 143.39, 230.89, 72.09], 'Email': [180.34, 122.34, 122.34, 98.09, 143.09, 98.09, 98.09], 'Flyer 3': [180.34], 'Flyer 1': [146.69, 180.34]}\n",
      "\tLead Source Profit Mean: {'Website': 131.12, 'Flyer 4': 138.49, 'Flyer 2': 158.07, 'Email': 123.2, 'Flyer 3': 180.34, 'Flyer 1': 163.51}\n",
      "\tLead Source Standard Deviation: {'Website': 32.08, 'Flyer 4': 54.13, 'Flyer 2': 64.4, 'Email': 30.42, 'Flyer 3': 0.0, 'Flyer 1': 23.79}\n",
      "\tLead Source Coefficient Variation: {'Website': 0.24, 'Flyer 4': 0.39, 'Flyer 2': 0.41, 'Email': 0.25, 'Flyer 3': 0.0, 'Flyer 1': 0.15}\n",
      "\n",
      "Sale Month Data:\n",
      "\t{'January': 5, 'February': 3, 'March': 6, 'April': 5, 'May': 4, 'July': 2, 'August': 3, 'November': 6, 'December': 5}\n",
      "\tSale Month Profit List: {'January': [143.39, 230.89, 72.09, 143.39, 180.34], 'February': [118.64, 98.09, 230.89], 'March': [72.09, 98.09, 146.69, 72.09, 72.09, 98.09], 'April': [230.89, 122.34, 146.69, 122.34, 143.39], 'May': [180.34, 143.39, 180.34, 72.09], 'July': [146.69, 122.34], 'August': [143.39, 180.34, 122.34], 'November': [180.34, 230.89, 122.34, 143.09, 118.64, 143.09], 'December': [118.64, 146.69, 143.09, 98.09, 180.34]}\n",
      "\tSale Month Profit Mean: {'January': 154.02, 'February': 149.21, 'March': 93.19, 'April': 153.13, 'May': 144.04, 'July': 134.51, 'August': 148.69, 'November': 156.4, 'December': 137.37}\n",
      "\tSale Month Standard Deviation: {'January': 58.18, 'February': 71.48, 'March': 29.14, 'April': 44.94, 'May': 51.03, 'July': 17.22, 'August': 29.36, 'November': 42.57, 'December': 31.06}\n",
      "\tSale Month Coefficient Variation: {'January': 0.38, 'February': 0.48, 'March': 0.31, 'April': 0.29, 'May': 0.35, 'July': 0.13, 'August': 0.2, 'November': 0.27, 'December': 0.23}\n",
      "\n",
      "Sale Year Data:\n",
      "\t{2018: 15, 2019: 14, 2020: 10}\n",
      "\tSale Year Profit List: {2018: [143.39, 230.89, 118.64, 72.09, 98.09, 230.89, 180.34, 146.69, 122.34, 143.39, 180.34, 230.89, 122.34, 118.64, 146.69], 2019: [72.09, 98.09, 146.69, 72.09, 122.34, 143.39, 180.34, 122.34, 143.09, 118.64, 143.09, 143.09, 98.09, 180.34], 2020: [143.39, 180.34, 230.89, 72.09, 98.09, 146.69, 122.34, 143.39, 180.34, 72.09]}\n",
      "\tSale Year Profit Mean: {2018: 152.38, 2019: 127.41, 2020: 138.97}\n",
      "\tSale Year Standard Deviation: {2018: 49.1, 2019: 33.9, 2020: 50.4}\n",
      "\tSale Year Coefficient Variation: {2018: 0.32, 2019: 0.27, 2020: 0.36}\n"
     ]
    }
   ],
   "source": [
    "for col in target_columns:\n",
    "    print(f\"\\n{col} Data:\")\n",
    "    print(f\"\\t{dict(Counter(sales_data[col]))}\")\n",
    "    print(f\"\\t{col} Profit List: {get_key_profit_dict(sales_data[col])}\")\n",
    "    print(f\"\\t{col} Profit Mean: {get_profit_stat_category_dict(sales_data[col], stat=\"mean\")}\")\n",
    "    print(f\"\\t{col} Standard Deviation: {get_profit_stat_category_dict(sales_data[col], stat=\"stdev\")}\")\n",
    "    print(f\"\\t{col} Coefficient Variation: {get_profit_stat_category_dict(sales_data[col], stat=\"cv\")}\")"
   ]
  },
  {
   "cell_type": "markdown",
   "metadata": {},
   "source": [
    "#### Grouping 'Contact sex'"
   ]
  },
  {
   "cell_type": "code",
   "execution_count": 462,
   "metadata": {},
   "outputs": [
    {
     "data": {
      "text/plain": [
       "{'20-30': 4, '30-40': 5, '40-50': 15, '50-60': 15}"
      ]
     },
     "execution_count": 462,
     "metadata": {},
     "output_type": "execute_result"
    }
   ],
   "source": [
    "def get_range_date(sales_data_column):\n",
    "    # Counting unique elements\n",
    "    sales_data_category = Counter(sales_data_column)\n",
    "    # Rounding numbers down to their nearest lower multiples (10, 20, 30, ...)\n",
    "    rng = list(floor(k/10) * 10 for k in sales_data_category.keys())\n",
    "    \n",
    "    # All possible intervals\n",
    "    possible_rng = range(min(rng), max(rng)+10, 10)\n",
    "    # Dictionary of possible intervals\n",
    "    rng_dict = {f\"{i}-{i+10}\": 0 for i in possible_rng}\n",
    "    \n",
    "    # Binning values into intervals of 10\n",
    "    for i in possible_rng:\n",
    "        for j in sales_data_category:\n",
    "            if j >= i and j < i+10:\n",
    "                rng_dict[f\"{i}-{i+10}\"] += sales_data_category[j]\n",
    "    \n",
    "    # Removing the count < 10\n",
    "    return {rng: val for rng, val in rng_dict.items() if val > 0}\n",
    "\n",
    "get_range_date(sales_data[\"Contact Age\"])"
   ]
  },
  {
   "cell_type": "code",
   "execution_count": 463,
   "metadata": {},
   "outputs": [
    {
     "data": {
      "text/plain": [
       "{'40-50': 15, '30-40': 5, '20-30': 4, '50-60': 15}"
      ]
     },
     "execution_count": 463,
     "metadata": {},
     "output_type": "execute_result"
    }
   ],
   "source": [
    "def get_range_date_optimized(sales_data_column):\n",
    "    \n",
    "    sales_data_category = Counter(sales_data_column)\n",
    "\n",
    "    range_dict = {}\n",
    "    for value, count in sales_data_category.items():\n",
    "\n",
    "        floored_value = floor(value/10) * 10 \n",
    "        range_key = f\"{floored_value}-{floored_value + 10}\"\n",
    "\n",
    "        if range_key in range_dict:\n",
    "            range_dict[range_key] += count\n",
    "        else:\n",
    "            range_dict[range_key] = count\n",
    "\n",
    "    return range_dict\n",
    "\n",
    "get_range_date_optimized(sales_data[\"Contact Age\"])"
   ]
  },
  {
   "cell_type": "code",
   "execution_count": 464,
   "metadata": {},
   "outputs": [
    {
     "data": {
      "text/plain": [
       "{'40-50': [143.39,\n",
       "  122.34,\n",
       "  230.89,\n",
       "  122.34,\n",
       "  122.34,\n",
       "  180.34,\n",
       "  98.09,\n",
       "  146.69,\n",
       "  118.64,\n",
       "  98.09,\n",
       "  146.69,\n",
       "  180.34,\n",
       "  72.09,\n",
       "  180.34,\n",
       "  72.09],\n",
       " '30-40': [230.89, 143.09, 72.09, 98.09, 72.09],\n",
       " '20-30': [118.64, 146.69, 72.09, 143.09],\n",
       " '50-60': [98.09,\n",
       "  180.34,\n",
       "  122.34,\n",
       "  143.09,\n",
       "  143.39,\n",
       "  146.69,\n",
       "  143.39,\n",
       "  230.89,\n",
       "  230.89,\n",
       "  122.34,\n",
       "  143.39,\n",
       "  143.39,\n",
       "  118.64,\n",
       "  180.34,\n",
       "  180.34]}"
      ]
     },
     "execution_count": 464,
     "metadata": {},
     "output_type": "execute_result"
    }
   ],
   "source": [
    "def get_range_profit_list(sales_data_column):\n",
    "    \n",
    "    sales_data_category = get_key_profit_dict(sales_data_column)\n",
    "\n",
    "    range_dict = {}\n",
    "    for value, count in sales_data_category.items():\n",
    "\n",
    "        floored_value = floor(value/10) * 10 \n",
    "        range_key = f\"{floored_value}-{floored_value + 10}\"\n",
    "\n",
    "        if range_key in range_dict:\n",
    "            range_dict[range_key] += count\n",
    "        else:\n",
    "            range_dict[range_key] = count\n",
    "\n",
    "    return range_dict\n",
    "\n",
    "get_range_profit_list(sales_data[\"Contact Age\"])"
   ]
  },
  {
   "cell_type": "code",
   "execution_count": 465,
   "metadata": {},
   "outputs": [
    {
     "data": {
      "text/plain": [
       "{'40-50': 135.64666666666668,\n",
       " '30-40': 123.25,\n",
       " '20-30': 120.1275,\n",
       " '50-60': 155.17}"
      ]
     },
     "execution_count": 465,
     "metadata": {},
     "output_type": "execute_result"
    }
   ],
   "source": [
    "def get_range_profit_mean_category_dict(sales_data_category):\n",
    "    range_profit_dict =  get_range_profit_list(sales_data_category)\n",
    "    return {k: custom_mean(v) for k, v in range_profit_dict.items()}\n",
    "\n",
    "get_range_profit_mean_category_dict(sales_data[\"Contact Age\"])"
   ]
  },
  {
   "cell_type": "code",
   "execution_count": 466,
   "metadata": {},
   "outputs": [
    {
     "name": "stdout",
     "output_type": "stream",
     "text": [
      "Contact Sex Data:\n",
      "\t{'M': 22, 'F': 17}\n",
      "\tContact Sex Profit List: {'M': [143.39, 118.64, 72.09, 146.69, 122.34, 143.39, 180.34, 122.34, 118.64, 146.69, 72.09, 143.39, 180.34, 122.34, 143.09, 143.09, 98.09, 143.39, 180.34, 143.39, 180.34, 72.09], 'F': [230.89, 98.09, 230.89, 180.34, 230.89, 72.09, 98.09, 146.69, 122.34, 143.09, 118.64, 180.34, 230.89, 72.09, 98.09, 146.69, 122.34]}\n",
      "\tContact Sex Profit Mean: {'M': 133.48, 'F': 148.38}\n",
      "\tContact Sex Standard Deviation: {'M': 33.22, 'F': 56.33}\n",
      "\tContact Sex Coefficient Variation: {'M': 0.25, 'F': 0.38}\n",
      "\n",
      "Contact State Data:\n",
      "\t{'OH': 11, 'WV': 4, 'PA': 19, 'NY': 5}\n",
      "\tContact State Profit List: {'OH': [143.39, 180.34, 146.69, 122.34, 230.89, 146.69, 98.09, 122.34, 143.09, 230.89, 98.09], 'WV': [230.89, 143.39, 143.09, 143.39], 'PA': [118.64, 72.09, 98.09, 230.89, 180.34, 122.34, 118.64, 72.09, 72.09, 143.39, 180.34, 143.09, 98.09, 180.34, 180.34, 72.09, 143.39, 180.34, 72.09], 'NY': [146.69, 122.34, 118.64, 146.69, 122.34]}\n",
      "\tContact State Profit Mean: {'OH': 151.17, 'WV': 165.19, 'PA': 130.46, 'NY': 131.34}\n",
      "\tContact State Standard Deviation: {'OH': 45.85, 'WV': 43.8, 'PA': 48.59, 'NY': 14.09}\n",
      "\tContact State Coefficient Variation: {'OH': 0.3, 'WV': 0.27, 'PA': 0.37, 'NY': 0.11}\n",
      "\n",
      "Product Company Data:\n",
      "\t{'HP': 13, 'Dell': 8, 'ASUS': 9, 'Apple': 4, 'Lenovo': 5}\n",
      "\tProduct Company Profit List: {'HP': [143.39, 230.89, 98.09, 230.89, 143.39, 230.89, 98.09, 143.39, 98.09, 143.39, 230.89, 98.09, 143.39], 'Dell': [118.64, 72.09, 118.64, 72.09, 72.09, 118.64, 72.09, 72.09], 'ASUS': [180.34, 180.34, 180.34, 143.09, 143.09, 143.09, 180.34, 180.34, 180.34], 'Apple': [146.69, 146.69, 146.69, 146.69], 'Lenovo': [122.34, 122.34, 122.34, 122.34, 122.34]}\n",
      "\tProduct Company Profit Mean: {'HP': 156.37, 'Dell': 89.55, 'ASUS': 167.92, 'Apple': 146.69, 'Lenovo': 122.34}\n",
      "\tProduct Company Standard Deviation: {'HP': 55.26, 'Dell': 24.09, 'ASUS': 18.62, 'Apple': 0.0, 'Lenovo': 0.0}\n",
      "\tProduct Company Coefficient Variation: {'HP': 0.35, 'Dell': 0.27, 'ASUS': 0.11, 'Apple': 0.0, 'Lenovo': 0.0}\n",
      "\n",
      "Product Type Data:\n",
      "\t{'Desktop': 12, 'Laptop': 23, 'Tablet': 4}\n",
      "\tProduct Type Profit List: {'Desktop': [143.39, 230.89, 118.64, 230.89, 143.39, 230.89, 118.64, 143.39, 118.64, 143.39, 230.89, 143.39], 'Laptop': [72.09, 98.09, 180.34, 122.34, 180.34, 122.34, 72.09, 98.09, 72.09, 122.34, 180.34, 122.34, 143.09, 143.09, 143.09, 98.09, 180.34, 180.34, 72.09, 98.09, 122.34, 180.34, 72.09], 'Tablet': [146.69, 146.69, 146.69, 146.69]}\n",
      "\tProduct Type Profit Mean: {'Desktop': 166.37, 'Laptop': 125.04, 'Tablet': 146.69}\n",
      "\tProduct Type Standard Deviation: {'Desktop': 48.74, 'Laptop': 40.61, 'Tablet': 0.0}\n",
      "\tProduct Type Coefficient Variation: {'Desktop': 0.29, 'Laptop': 0.32, 'Tablet': 0.0}\n",
      "\n",
      "Lead Source Data:\n",
      "\t{'Website': 14, 'Flyer 4': 6, 'Flyer 2': 9, 'Email': 7, 'Flyer 3': 1, 'Flyer 1': 2}\n",
      "\tLead Source Profit List: {'Website': [143.39, 118.64, 72.09, 146.69, 118.64, 146.69, 122.34, 180.34, 122.34, 143.09, 146.69, 122.34, 180.34, 72.09], 'Flyer 4': [230.89, 98.09, 72.09, 143.39, 143.09, 143.39], 'Flyer 2': [230.89, 143.39, 230.89, 72.09, 118.64, 180.34, 143.39, 230.89, 72.09], 'Email': [180.34, 122.34, 122.34, 98.09, 143.09, 98.09, 98.09], 'Flyer 3': [180.34], 'Flyer 1': [146.69, 180.34]}\n",
      "\tLead Source Profit Mean: {'Website': 131.12, 'Flyer 4': 138.49, 'Flyer 2': 158.07, 'Email': 123.2, 'Flyer 3': 180.34, 'Flyer 1': 163.51}\n",
      "\tLead Source Standard Deviation: {'Website': 32.08, 'Flyer 4': 54.13, 'Flyer 2': 64.4, 'Email': 30.42, 'Flyer 3': 0.0, 'Flyer 1': 23.79}\n",
      "\tLead Source Coefficient Variation: {'Website': 0.24, 'Flyer 4': 0.39, 'Flyer 2': 0.41, 'Email': 0.25, 'Flyer 3': 0.0, 'Flyer 1': 0.15}\n",
      "\n",
      "Sale Month Data:\n",
      "\t{'January': 5, 'February': 3, 'March': 6, 'April': 5, 'May': 4, 'July': 2, 'August': 3, 'November': 6, 'December': 5}\n",
      "\tSale Month Profit List: {'January': [143.39, 230.89, 72.09, 143.39, 180.34], 'February': [118.64, 98.09, 230.89], 'March': [72.09, 98.09, 146.69, 72.09, 72.09, 98.09], 'April': [230.89, 122.34, 146.69, 122.34, 143.39], 'May': [180.34, 143.39, 180.34, 72.09], 'July': [146.69, 122.34], 'August': [143.39, 180.34, 122.34], 'November': [180.34, 230.89, 122.34, 143.09, 118.64, 143.09], 'December': [118.64, 146.69, 143.09, 98.09, 180.34]}\n",
      "\tSale Month Profit Mean: {'January': 154.02, 'February': 149.21, 'March': 93.19, 'April': 153.13, 'May': 144.04, 'July': 134.51, 'August': 148.69, 'November': 156.4, 'December': 137.37}\n",
      "\tSale Month Standard Deviation: {'January': 58.18, 'February': 71.48, 'March': 29.14, 'April': 44.94, 'May': 51.03, 'July': 17.22, 'August': 29.36, 'November': 42.57, 'December': 31.06}\n",
      "\tSale Month Coefficient Variation: {'January': 0.38, 'February': 0.48, 'March': 0.31, 'April': 0.29, 'May': 0.35, 'July': 0.13, 'August': 0.2, 'November': 0.27, 'December': 0.23}\n",
      "\n",
      "Sale Year Data:\n",
      "\t{2018: 15, 2019: 14, 2020: 10}\n",
      "\tSale Year Profit List: {2018: [143.39, 230.89, 118.64, 72.09, 98.09, 230.89, 180.34, 146.69, 122.34, 143.39, 180.34, 230.89, 122.34, 118.64, 146.69], 2019: [72.09, 98.09, 146.69, 72.09, 122.34, 143.39, 180.34, 122.34, 143.09, 118.64, 143.09, 143.09, 98.09, 180.34], 2020: [143.39, 180.34, 230.89, 72.09, 98.09, 146.69, 122.34, 143.39, 180.34, 72.09]}\n",
      "\tSale Year Profit Mean: {2018: 152.38, 2019: 127.41, 2020: 138.97}\n",
      "\tSale Year Standard Deviation: {2018: 49.1, 2019: 33.9, 2020: 50.4}\n",
      "\tSale Year Coefficient Variation: {2018: 0.32, 2019: 0.27, 2020: 0.36}\n",
      "\n",
      "{'20-30': 4, '30-40': 5, '40-50': 15, '50-60': 15}\n",
      "{'20-30': [118.64, 146.69, 72.09, 143.09], '30-40': [230.89, 143.09, 72.09, 98.09, 72.09], '40-50': [143.39, 122.34, 230.89, 122.34, 122.34, 180.34, 98.09, 146.69, 118.64, 98.09, 146.69, 180.34, 72.09, 180.34, 72.09], '50-60': [98.09, 180.34, 122.34, 143.09, 143.39, 146.69, 143.39, 230.89, 230.89, 122.34, 143.39, 143.39, 118.64, 180.34, 180.34]}\n",
      "{'20-30': 120.1275, '30-40': 123.25, '40-50': 135.64666666666668, '50-60': 155.17}\n"
     ]
    }
   ],
   "source": [
    "for col in target_columns:\n",
    "    print(f\"{col} Data:\")\n",
    "    print(f\"\\t{dict(Counter(sales_data[col]))}\")\n",
    "    print(f\"\\t{col} Profit List: {get_key_profit_dict(sales_data[col])}\")\n",
    "    print(f\"\\t{col} Profit Mean: {get_profit_stat_category_dict(sales_data[col], stat=\"mean\")}\")\n",
    "    print(f\"\\t{col} Standard Deviation: {get_profit_stat_category_dict(sales_data[col], stat=\"stdev\")}\")\n",
    "    print(f\"\\t{col} Coefficient Variation: {get_profit_stat_category_dict(sales_data[col], stat=\"cv\")}\\n\")\n",
    "\n",
    "print(\n",
    "    dict(sorted(get_range_date_optimized(sales_data[\"Contact Age\"]).items(),\n",
    "                key = lambda x: x[0]))\n",
    ")\n",
    "print(\n",
    "    dict(sorted(get_range_profit_list(sales_data[\"Contact Age\"]).items(),\n",
    "                key = lambda x: x[0]))\n",
    ")\n",
    "print(\n",
    "    dict(sorted(get_range_profit_mean_category_dict(sales_data[\"Contact Age\"]).items(),\n",
    "                key = lambda x: x[0]))\n",
    ")"
   ]
  },
  {
   "cell_type": "markdown",
   "metadata": {},
   "source": [
    "- In conclusion the porfitable age range is between 50 and 60 (highest average profit of 155.17)"
   ]
  }
 ],
 "metadata": {
  "kernelspec": {
   "display_name": "Python 3",
   "language": "python",
   "name": "python3"
  },
  "language_info": {
   "codemirror_mode": {
    "name": "ipython",
    "version": 3
   },
   "file_extension": ".py",
   "mimetype": "text/x-python",
   "name": "python",
   "nbconvert_exporter": "python",
   "pygments_lexer": "ipython3",
   "version": "3.12.3"
  }
 },
 "nbformat": 4,
 "nbformat_minor": 2
}
